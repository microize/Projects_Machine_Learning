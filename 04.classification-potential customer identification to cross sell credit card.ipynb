{
  "nbformat": 4,
  "nbformat_minor": 0,
  "metadata": {
    "colab": {
      "name": "jobathon_may_2021.ipynb",
      "provenance": [],
      "collapsed_sections": [],
      "mount_file_id": "1ssN1hk2PvMeo7My0nLoPhFDmgLU7PPzq",
      "authorship_tag": "ABX9TyMFpOKzMwGupJuksoL6+Ncn",
      "include_colab_link": true
    },
    "kernelspec": {
      "display_name": "Python 3",
      "name": "python3"
    },
    "language_info": {
      "name": "python"
    }
  },
  "cells": [
    {
      "cell_type": "markdown",
      "metadata": {
        "id": "view-in-github",
        "colab_type": "text"
      },
      "source": [
        "<a href=\"https://colab.research.google.com/github/microize/Hackathons/blob/main/jobathon_may_2021.ipynb\" target=\"_parent\"><img src=\"https://colab.research.google.com/assets/colab-badge.svg\" alt=\"Open In Colab\"/></a>"
      ]
    },
    {
      "cell_type": "markdown",
      "metadata": {
        "id": "_1o7Yx-evxDS"
      },
      "source": [
        "# **Problem**\n",
        "\n",
        "**Task:** To Identify the potential customer to cross sell the credit Cards\n",
        "\n",
        "**Machine Learning Problem :** Classification\n",
        "\n",
        "**Evaluation Metrics :** ROC AUC Score"
      ]
    },
    {
      "cell_type": "markdown",
      "metadata": {
        "id": "y9E3I2S2hsnv"
      },
      "source": [
        "# **Basic EDA**"
      ]
    },
    {
      "cell_type": "code",
      "metadata": {
        "id": "AO4H3Wkvql7V"
      },
      "source": [
        "# importing libraries\n",
        "import numpy as np\n",
        "import pandas as pd\n",
        "import matplotlib.pyplot as plt\n",
        "import seaborn as sns\n",
        "\n",
        "# altering The display option\n",
        "pd.set_option('display.max_rows',None)\n",
        "pd.set_option('display.max_Columns',None)\n",
        "\n",
        "# ignore warnings\n",
        "import warnings\n",
        "warnings.filterwarnings('ignore')"
      ],
      "execution_count": 43,
      "outputs": []
    },
    {
      "cell_type": "code",
      "metadata": {
        "id": "-fkDkCf_rlUh"
      },
      "source": [
        "# reading the data\n",
        "subm_df = pd.read_csv('/content/drive/MyDrive/Data-colab/jobathon-may_2021/sample_submission_eyYijxG.csv',index_col='ID')\n",
        "test_df = pd.read_csv('/content/drive/MyDrive/Data-colab/jobathon-may_2021/test_mSzZ8RL.csv',index_col='ID')\n",
        "core_df = pd.read_csv('/content/drive/MyDrive/Data-colab/jobathon-may_2021/train_s3TEQDk.csv',index_col='ID')"
      ],
      "execution_count": 44,
      "outputs": []
    },
    {
      "cell_type": "code",
      "metadata": {
        "colab": {
          "base_uri": "https://localhost:8080/",
          "height": 136
        },
        "id": "-E2vn_tPszrR",
        "outputId": "e0a878e7-a3f1-4fc5-b9ec-27086755bbcb"
      },
      "source": [
        "core_df.head(2)"
      ],
      "execution_count": 45,
      "outputs": [
        {
          "output_type": "execute_result",
          "data": {
            "text/html": [
              "<div>\n",
              "<style scoped>\n",
              "    .dataframe tbody tr th:only-of-type {\n",
              "        vertical-align: middle;\n",
              "    }\n",
              "\n",
              "    .dataframe tbody tr th {\n",
              "        vertical-align: top;\n",
              "    }\n",
              "\n",
              "    .dataframe thead th {\n",
              "        text-align: right;\n",
              "    }\n",
              "</style>\n",
              "<table border=\"1\" class=\"dataframe\">\n",
              "  <thead>\n",
              "    <tr style=\"text-align: right;\">\n",
              "      <th></th>\n",
              "      <th>Gender</th>\n",
              "      <th>Age</th>\n",
              "      <th>Region_Code</th>\n",
              "      <th>Occupation</th>\n",
              "      <th>Channel_Code</th>\n",
              "      <th>Vintage</th>\n",
              "      <th>Credit_Product</th>\n",
              "      <th>Avg_Account_Balance</th>\n",
              "      <th>Is_Active</th>\n",
              "      <th>Is_Lead</th>\n",
              "    </tr>\n",
              "    <tr>\n",
              "      <th>ID</th>\n",
              "      <th></th>\n",
              "      <th></th>\n",
              "      <th></th>\n",
              "      <th></th>\n",
              "      <th></th>\n",
              "      <th></th>\n",
              "      <th></th>\n",
              "      <th></th>\n",
              "      <th></th>\n",
              "      <th></th>\n",
              "    </tr>\n",
              "  </thead>\n",
              "  <tbody>\n",
              "    <tr>\n",
              "      <th>NNVBBKZB</th>\n",
              "      <td>Female</td>\n",
              "      <td>73</td>\n",
              "      <td>RG268</td>\n",
              "      <td>Other</td>\n",
              "      <td>X3</td>\n",
              "      <td>43</td>\n",
              "      <td>No</td>\n",
              "      <td>1045696</td>\n",
              "      <td>No</td>\n",
              "      <td>0</td>\n",
              "    </tr>\n",
              "    <tr>\n",
              "      <th>IDD62UNG</th>\n",
              "      <td>Female</td>\n",
              "      <td>30</td>\n",
              "      <td>RG277</td>\n",
              "      <td>Salaried</td>\n",
              "      <td>X1</td>\n",
              "      <td>32</td>\n",
              "      <td>No</td>\n",
              "      <td>581988</td>\n",
              "      <td>No</td>\n",
              "      <td>0</td>\n",
              "    </tr>\n",
              "  </tbody>\n",
              "</table>\n",
              "</div>"
            ],
            "text/plain": [
              "          Gender  Age Region_Code Occupation Channel_Code  Vintage  \\\n",
              "ID                                                                   \n",
              "NNVBBKZB  Female   73       RG268      Other           X3       43   \n",
              "IDD62UNG  Female   30       RG277   Salaried           X1       32   \n",
              "\n",
              "         Credit_Product  Avg_Account_Balance Is_Active  Is_Lead  \n",
              "ID                                                               \n",
              "NNVBBKZB             No              1045696        No        0  \n",
              "IDD62UNG             No               581988        No        0  "
            ]
          },
          "metadata": {
            "tags": []
          },
          "execution_count": 45
        }
      ]
    },
    {
      "cell_type": "markdown",
      "metadata": {
        "id": "k7qS1WQBo9Yw"
      },
      "source": [
        "**Column description**\n",
        "\n",
        "1. ID                  - Unique Identifier for a row\n",
        "2. Gender              - Gender of the Customer\n",
        "3. Age                 - Age of the Customer (in Years)\n",
        "4. Region_Code         - Code of the Region for the customers\n",
        "5. Occupation          - Occupation Type for the customer\n",
        "6. Channel_Code        - Acquisition Channel Code for the Customer  (Encoded)\n",
        "7. Vintage             - Vintage for the Customer (In Months)\n",
        "8. Credit_Product      - If the Customer has any active credit product (Home loan,Personal loan, Credit Card etc.)\n",
        "9. Avg_Account_Balance - Average Account Balance for the Customer in last 12 Months\n",
        "10. Is_Active           - If the Customer is Active in last 3 Months\n",
        "11. Is_Lead(Target)     - If the Customer is interested for the Credit Card \n",
        "( 0 : Customer is not interested, 1 : Customer is interested)"
      ]
    },
    {
      "cell_type": "code",
      "metadata": {
        "colab": {
          "base_uri": "https://localhost:8080/"
        },
        "id": "0aLQINesz0hS",
        "outputId": "0593b206-081f-4c2d-980c-3e92f3d810b9"
      },
      "source": [
        "print(\"Train Dataset has {} Rows and {} Columns\".format(core_df.shape[0],core_df.shape[1]))"
      ],
      "execution_count": 46,
      "outputs": [
        {
          "output_type": "stream",
          "text": [
            "Train Dataset has 245725 Rows and 10 Columns\n"
          ],
          "name": "stdout"
        }
      ]
    },
    {
      "cell_type": "code",
      "metadata": {
        "colab": {
          "base_uri": "https://localhost:8080/"
        },
        "id": "W-c3q_rk0PTZ",
        "outputId": "8c23114f-7c46-4954-82db-1571e94b069a"
      },
      "source": [
        "print(\"Test Dataset has {} Rows and {} Columns\".format(test_df.shape[0],test_df.shape[1]))"
      ],
      "execution_count": 47,
      "outputs": [
        {
          "output_type": "stream",
          "text": [
            "Test Dataset has 105312 Rows and 9 Columns\n"
          ],
          "name": "stdout"
        }
      ]
    },
    {
      "cell_type": "code",
      "metadata": {
        "colab": {
          "base_uri": "https://localhost:8080/"
        },
        "id": "xDXarknJ0lCW",
        "outputId": "efa94134-26b4-42b6-8c22-7ecf29d26016"
      },
      "source": [
        "# check Data types and Null Values\n",
        "core_df.info()"
      ],
      "execution_count": 48,
      "outputs": [
        {
          "output_type": "stream",
          "text": [
            "<class 'pandas.core.frame.DataFrame'>\n",
            "Index: 245725 entries, NNVBBKZB to BOCZSWLJ\n",
            "Data columns (total 10 columns):\n",
            " #   Column               Non-Null Count   Dtype \n",
            "---  ------               --------------   ----- \n",
            " 0   Gender               245725 non-null  object\n",
            " 1   Age                  245725 non-null  int64 \n",
            " 2   Region_Code          245725 non-null  object\n",
            " 3   Occupation           245725 non-null  object\n",
            " 4   Channel_Code         245725 non-null  object\n",
            " 5   Vintage              245725 non-null  int64 \n",
            " 6   Credit_Product       216400 non-null  object\n",
            " 7   Avg_Account_Balance  245725 non-null  int64 \n",
            " 8   Is_Active            245725 non-null  object\n",
            " 9   Is_Lead              245725 non-null  int64 \n",
            "dtypes: int64(4), object(6)\n",
            "memory usage: 20.6+ MB\n"
          ],
          "name": "stdout"
        }
      ]
    },
    {
      "cell_type": "code",
      "metadata": {
        "colab": {
          "base_uri": "https://localhost:8080/",
          "height": 284
        },
        "id": "XeXyezrZuLl4",
        "outputId": "62179f45-9b10-4a49-ad9c-0ec3e5846d7d"
      },
      "source": [
        "core_df.describe()"
      ],
      "execution_count": 49,
      "outputs": [
        {
          "output_type": "execute_result",
          "data": {
            "text/html": [
              "<div>\n",
              "<style scoped>\n",
              "    .dataframe tbody tr th:only-of-type {\n",
              "        vertical-align: middle;\n",
              "    }\n",
              "\n",
              "    .dataframe tbody tr th {\n",
              "        vertical-align: top;\n",
              "    }\n",
              "\n",
              "    .dataframe thead th {\n",
              "        text-align: right;\n",
              "    }\n",
              "</style>\n",
              "<table border=\"1\" class=\"dataframe\">\n",
              "  <thead>\n",
              "    <tr style=\"text-align: right;\">\n",
              "      <th></th>\n",
              "      <th>Age</th>\n",
              "      <th>Vintage</th>\n",
              "      <th>Avg_Account_Balance</th>\n",
              "      <th>Is_Lead</th>\n",
              "    </tr>\n",
              "  </thead>\n",
              "  <tbody>\n",
              "    <tr>\n",
              "      <th>count</th>\n",
              "      <td>245725.000000</td>\n",
              "      <td>245725.000000</td>\n",
              "      <td>2.457250e+05</td>\n",
              "      <td>245725.000000</td>\n",
              "    </tr>\n",
              "    <tr>\n",
              "      <th>mean</th>\n",
              "      <td>43.856307</td>\n",
              "      <td>46.959141</td>\n",
              "      <td>1.128403e+06</td>\n",
              "      <td>0.237208</td>\n",
              "    </tr>\n",
              "    <tr>\n",
              "      <th>std</th>\n",
              "      <td>14.828672</td>\n",
              "      <td>32.353136</td>\n",
              "      <td>8.529364e+05</td>\n",
              "      <td>0.425372</td>\n",
              "    </tr>\n",
              "    <tr>\n",
              "      <th>min</th>\n",
              "      <td>23.000000</td>\n",
              "      <td>7.000000</td>\n",
              "      <td>2.079000e+04</td>\n",
              "      <td>0.000000</td>\n",
              "    </tr>\n",
              "    <tr>\n",
              "      <th>25%</th>\n",
              "      <td>30.000000</td>\n",
              "      <td>20.000000</td>\n",
              "      <td>6.043100e+05</td>\n",
              "      <td>0.000000</td>\n",
              "    </tr>\n",
              "    <tr>\n",
              "      <th>50%</th>\n",
              "      <td>43.000000</td>\n",
              "      <td>32.000000</td>\n",
              "      <td>8.946010e+05</td>\n",
              "      <td>0.000000</td>\n",
              "    </tr>\n",
              "    <tr>\n",
              "      <th>75%</th>\n",
              "      <td>54.000000</td>\n",
              "      <td>73.000000</td>\n",
              "      <td>1.366666e+06</td>\n",
              "      <td>0.000000</td>\n",
              "    </tr>\n",
              "    <tr>\n",
              "      <th>max</th>\n",
              "      <td>85.000000</td>\n",
              "      <td>135.000000</td>\n",
              "      <td>1.035201e+07</td>\n",
              "      <td>1.000000</td>\n",
              "    </tr>\n",
              "  </tbody>\n",
              "</table>\n",
              "</div>"
            ],
            "text/plain": [
              "                 Age        Vintage  Avg_Account_Balance        Is_Lead\n",
              "count  245725.000000  245725.000000         2.457250e+05  245725.000000\n",
              "mean       43.856307      46.959141         1.128403e+06       0.237208\n",
              "std        14.828672      32.353136         8.529364e+05       0.425372\n",
              "min        23.000000       7.000000         2.079000e+04       0.000000\n",
              "25%        30.000000      20.000000         6.043100e+05       0.000000\n",
              "50%        43.000000      32.000000         8.946010e+05       0.000000\n",
              "75%        54.000000      73.000000         1.366666e+06       0.000000\n",
              "max        85.000000     135.000000         1.035201e+07       1.000000"
            ]
          },
          "metadata": {
            "tags": []
          },
          "execution_count": 49
        }
      ]
    },
    {
      "cell_type": "code",
      "metadata": {
        "colab": {
          "base_uri": "https://localhost:8080/"
        },
        "id": "RyMkkUhFim_E",
        "outputId": "fb53fc1e-166e-40a3-e3a4-3a034237fb21"
      },
      "source": [
        "cat_col = core_df.select_dtypes(exclude=['int64'])\n",
        "print(cat_col.columns)"
      ],
      "execution_count": 50,
      "outputs": [
        {
          "output_type": "stream",
          "text": [
            "Index(['Gender', 'Region_Code', 'Occupation', 'Channel_Code', 'Credit_Product',\n",
            "       'Is_Active'],\n",
            "      dtype='object')\n"
          ],
          "name": "stdout"
        }
      ]
    },
    {
      "cell_type": "code",
      "metadata": {
        "id": "sn_oLwQIxvqq"
      },
      "source": [
        "def info_column(column):\n",
        "    \"\"\"Purpose : To print No of Unique Value, Unique Values, and No of Observations in each unique Values\"\"\"\n",
        "    print(column)\n",
        "    print(core_df[column].nunique())\n",
        "    print(core_df[column].unique())\n",
        "    print(core_df[column].value_counts())\n",
        "    print(core_df[column].value_counts(normalize=True)*100)\n",
        "    print('**********************')\n",
        "    print('                      ')"
      ],
      "execution_count": 51,
      "outputs": []
    },
    {
      "cell_type": "code",
      "metadata": {
        "colab": {
          "base_uri": "https://localhost:8080/"
        },
        "id": "2V-WhPLSyCOs",
        "outputId": "70fd5ed8-f99e-47b4-efee-3b6f3bb4e5a2"
      },
      "source": [
        "for col in cat_col:\n",
        "    info_column(col)"
      ],
      "execution_count": 52,
      "outputs": [
        {
          "output_type": "stream",
          "text": [
            "Gender\n",
            "2\n",
            "['Female' 'Male']\n",
            "Male      134197\n",
            "Female    111528\n",
            "Name: Gender, dtype: int64\n",
            "Male      54.612677\n",
            "Female    45.387323\n",
            "Name: Gender, dtype: float64\n",
            "**********************\n",
            "                      \n",
            "Region_Code\n",
            "35\n",
            "['RG268' 'RG277' 'RG270' 'RG282' 'RG261' 'RG265' 'RG283' 'RG254' 'RG269'\n",
            " 'RG257' 'RG279' 'RG280' 'RG252' 'RG284' 'RG259' 'RG281' 'RG258' 'RG266'\n",
            " 'RG260' 'RG274' 'RG256' 'RG275' 'RG273' 'RG267' 'RG272' 'RG251' 'RG262'\n",
            " 'RG264' 'RG278' 'RG276' 'RG263' 'RG250' 'RG255' 'RG253' 'RG271']\n",
            "RG268    35934\n",
            "RG283    29416\n",
            "RG254    26840\n",
            "RG284    19320\n",
            "RG277    12826\n",
            "RG280    12775\n",
            "RG269     7863\n",
            "RG270     7720\n",
            "RG261     7633\n",
            "RG257     6101\n",
            "RG251     5950\n",
            "RG282     5829\n",
            "RG274     5286\n",
            "RG272     5252\n",
            "RG281     5093\n",
            "RG273     4497\n",
            "RG252     4286\n",
            "RG279     3976\n",
            "RG263     3687\n",
            "RG275     3245\n",
            "RG260     3110\n",
            "RG256     2847\n",
            "RG264     2793\n",
            "RG276     2764\n",
            "RG259     2586\n",
            "RG250     2496\n",
            "RG255     2018\n",
            "RG258     1951\n",
            "RG253     1858\n",
            "RG278     1822\n",
            "RG262     1788\n",
            "RG266     1578\n",
            "RG265     1546\n",
            "RG271     1542\n",
            "RG267     1497\n",
            "Name: Region_Code, dtype: int64\n",
            "RG268    14.623665\n",
            "RG283    11.971106\n",
            "RG254    10.922780\n",
            "RG284     7.862448\n",
            "RG277     5.219656\n",
            "RG280     5.198901\n",
            "RG269     3.199919\n",
            "RG270     3.141723\n",
            "RG261     3.106318\n",
            "RG257     2.482857\n",
            "RG251     2.421406\n",
            "RG282     2.372164\n",
            "RG274     2.151185\n",
            "RG272     2.137349\n",
            "RG281     2.072642\n",
            "RG273     1.830095\n",
            "RG252     1.744226\n",
            "RG279     1.618069\n",
            "RG263     1.500458\n",
            "RG275     1.320582\n",
            "RG260     1.265642\n",
            "RG256     1.158612\n",
            "RG264     1.136636\n",
            "RG276     1.124835\n",
            "RG259     1.052396\n",
            "RG250     1.015770\n",
            "RG255     0.821243\n",
            "RG258     0.793977\n",
            "RG253     0.756130\n",
            "RG278     0.741479\n",
            "RG262     0.727643\n",
            "RG266     0.642181\n",
            "RG265     0.629159\n",
            "RG271     0.627531\n",
            "RG267     0.609218\n",
            "Name: Region_Code, dtype: float64\n",
            "**********************\n",
            "                      \n",
            "Occupation\n",
            "4\n",
            "['Other' 'Salaried' 'Self_Employed' 'Entrepreneur']\n",
            "Self_Employed    100886\n",
            "Salaried          71999\n",
            "Other             70173\n",
            "Entrepreneur       2667\n",
            "Name: Occupation, dtype: int64\n",
            "Self_Employed    41.056466\n",
            "Salaried         29.300641\n",
            "Other            28.557534\n",
            "Entrepreneur      1.085360\n",
            "Name: Occupation, dtype: float64\n",
            "**********************\n",
            "                      \n",
            "Channel_Code\n",
            "4\n",
            "['X3' 'X1' 'X2' 'X4']\n",
            "X1    103718\n",
            "X3     68712\n",
            "X2     67726\n",
            "X4      5569\n",
            "Name: Channel_Code, dtype: int64\n",
            "X1    42.208973\n",
            "X3    27.962967\n",
            "X2    27.561705\n",
            "X4     2.266355\n",
            "Name: Channel_Code, dtype: float64\n",
            "**********************\n",
            "                      \n",
            "Credit_Product\n",
            "2\n",
            "['No' nan 'Yes']\n",
            "No     144357\n",
            "Yes     72043\n",
            "Name: Credit_Product, dtype: int64\n",
            "No     66.70841\n",
            "Yes    33.29159\n",
            "Name: Credit_Product, dtype: float64\n",
            "**********************\n",
            "                      \n",
            "Is_Active\n",
            "2\n",
            "['No' 'Yes']\n",
            "No     150290\n",
            "Yes     95435\n",
            "Name: Is_Active, dtype: int64\n",
            "No     61.161868\n",
            "Yes    38.838132\n",
            "Name: Is_Active, dtype: float64\n",
            "**********************\n",
            "                      \n"
          ],
          "name": "stdout"
        }
      ]
    },
    {
      "cell_type": "code",
      "metadata": {
        "colab": {
          "base_uri": "https://localhost:8080/",
          "height": 118
        },
        "id": "GHYWrQ_RNiFv",
        "outputId": "e817f0af-009e-4f24-d5b9-970540a3d46f"
      },
      "source": [
        "# Target Value distribution\n",
        "display(core_df['Is_Lead'].value_counts())\n",
        "display(core_df['Is_Lead'].value_counts(normalize=True)*100)"
      ],
      "execution_count": 53,
      "outputs": [
        {
          "output_type": "display_data",
          "data": {
            "text/plain": [
              "0    187437\n",
              "1     58288\n",
              "Name: Is_Lead, dtype: int64"
            ]
          },
          "metadata": {
            "tags": []
          }
        },
        {
          "output_type": "display_data",
          "data": {
            "text/plain": [
              "0    76.279174\n",
              "1    23.720826\n",
              "Name: Is_Lead, dtype: float64"
            ]
          },
          "metadata": {
            "tags": []
          }
        }
      ]
    },
    {
      "cell_type": "code",
      "metadata": {
        "colab": {
          "base_uri": "https://localhost:8080/",
          "height": 35
        },
        "id": "msCvMs-NEWuj",
        "outputId": "8b06fde3-5180-4b07-a4d7-bef6282151f2"
      },
      "source": [
        "# log Transformation \n",
        "\"\"\"core_df['Avg_Account_Balance'] = np.log1p(core_df['Avg_Account_Balance'])\n",
        "test_df['Avg_Account_Balance'] = np.log1p(test_df['Avg_Account_Balance'])\"\"\""
      ],
      "execution_count": 54,
      "outputs": [
        {
          "output_type": "execute_result",
          "data": {
            "application/vnd.google.colaboratory.intrinsic+json": {
              "type": "string"
            },
            "text/plain": [
              "\"core_df['Avg_Account_Balance'] = np.log1p(core_df['Avg_Account_Balance'])\\ntest_df['Avg_Account_Balance'] = np.log1p(test_df['Avg_Account_Balance'])\""
            ]
          },
          "metadata": {
            "tags": []
          },
          "execution_count": 54
        }
      ]
    },
    {
      "cell_type": "markdown",
      "metadata": {
        "id": "68nlBPU406a9"
      },
      "source": [
        "1. Train Data - 2,45,725 observations\n",
        "2. Test Data - 1,05,312 observations\n",
        "3. 'Credit_Product' column has null values\n",
        "4. 'Gender', Region_Code', 'Occupation', 'Channel_Code','Credit_Product','Is_Active' - These column are categorical column.\n",
        "5. Customer Age spreads from 23 to 85. More than 75% of Customers are below 54 Age.\n",
        "6. More Than 75 % customers have Vintage less than 6 years.\n",
        "7. Target Value is Imbalanced.\n",
        "8. 'Avg_Account_Balance' column is Skewed.\n"
      ]
    },
    {
      "cell_type": "markdown",
      "metadata": {
        "id": "CyYyWbtExNpi"
      },
      "source": [
        "# **Benchmark Model**"
      ]
    },
    {
      "cell_type": "markdown",
      "metadata": {
        "id": "ud--L9aZqwL7"
      },
      "source": [
        "**PreProcessing Data**"
      ]
    },
    {
      "cell_type": "code",
      "metadata": {
        "colab": {
          "base_uri": "https://localhost:8080/"
        },
        "id": "pqb71o0MrJEE",
        "outputId": "0f7d98b7-574b-41e6-b233-dbd2c8811a2a"
      },
      "source": [
        "# dictionaries for Label encoding\n",
        "gen_dic = {'Female':0,'Male':1}\n",
        "occ_dic = {'Other':0,'Salaried':1,'Self_Employed':2,'Entrepreneur':3}\n",
        "cha_dic = {'X3':3, 'X1':1, 'X2':2, 'X4':4}\n",
        "cre_dic = {'No':0,'Yes':1}\n",
        "isa_dic = {'No':0,'Yes':1}\n",
        "\n",
        "def label_enc(df):\n",
        "  \"\"\"Purpose : Contains Preprocessing Step\"\"\"\n",
        "  df['Gender'] = df['Gender'].map(gen_dic)\n",
        "  df['Occupation'] = df['Occupation'].map(occ_dic)\n",
        "  df['Channel_Code'] = df['Channel_Code'].map(cha_dic)\n",
        "  df['Credit_Product'] = df['Credit_Product'].map(cre_dic)\n",
        "  df['Is_Active'] = df['Is_Active'].map(isa_dic)\n",
        "  df['Region_Code']=df['Region_Code'].str.replace('RG','').astype('int64')\n",
        "  df.fillna(-1000,inplace=True)\n",
        "  \n",
        "core_df['Vintage'] = core_df['Vintage']/12\n",
        "test_df['Vintage'] = test_df['Vintage']/12\n",
        "\n",
        "# Copying dataframe\n",
        "core_df_pre = core_df.copy()\n",
        "test_df_pre = test_df.copy()\n",
        "\n",
        "# encoding and filling Missing Values\n",
        "label_enc(core_df_pre)\n",
        "label_enc(test_df_pre)\n",
        "\n",
        "# Changing Data type\n",
        "core_df_pre['Credit_Product'] = pd.to_numeric(core_df_pre['Credit_Product'])\n",
        "test_df_pre['Credit_Product'] = pd.to_numeric(test_df_pre['Credit_Product'])\n",
        "\n",
        "core_df_pre['Credit_Product'].value_counts()"
      ],
      "execution_count": 55,
      "outputs": [
        {
          "output_type": "execute_result",
          "data": {
            "text/plain": [
              " 0.0       144357\n",
              " 1.0        72043\n",
              "-1000.0     29325\n",
              "Name: Credit_Product, dtype: int64"
            ]
          },
          "metadata": {
            "tags": []
          },
          "execution_count": 55
        }
      ]
    },
    {
      "cell_type": "code",
      "metadata": {
        "colab": {
          "base_uri": "https://localhost:8080/",
          "height": 120
        },
        "id": "5VPA-Fm4xlmS",
        "outputId": "e52097b8-baa3-467c-c1e2-169ecc93475c"
      },
      "source": [
        "# OHE & Label Encoding on Dataset\n",
        "\"\"\"from sklearn.preprocessing import LabelEncoder\n",
        "core_df['Credit_Product']=core_df['Credit_Product'].astype(str)\n",
        "def l_enc(df,df2,column):\n",
        "    l_enc = LabelEncoder()\n",
        "    df[column]= l_enc.fit_transform(df[column])\n",
        "    df2[column]= l_enc.fit_transform(df2[column])\n",
        "\n",
        "le = LabelEncoder()\n",
        "core_df['Gender']= le.fit_transform(core_df['Gender'])\n",
        "core_df['Occupation']= le.fit_transform(core_df['Occupation'])\n",
        "core_df['Credit_Product']= le.fit_transform(core_df['Credit_Product'])\n",
        "core_df['Vintage']= le.fit_transform(core_df['Vintage'])\n",
        "core_df['Region_Code']= le.fit_transform(core_df['Region_Code'])\n",
        "core_df['Channel_Code']= le.fit_transform(core_df['Channel_Code'])\n",
        "core_df['Age']= le.fit_transform(core_df['Age'])\n",
        "core_df['Is_Lead']= le.fit_transform(core_df['Is_Lead'])\n",
        "core_df['Is_Active']= le.fit_transform(core_df['Is_Active'])\n",
        "core_df['ID']= le.fit_transform(core_df['ID'])\"\"\"\n",
        "\n",
        "\"\"\"core_df_pre = pd.concat([core_df_pre,pd.get_dummies(core_df_pre['Region_Code'],prefix='RC',drop_first=True),\n",
        "                         pd.get_dummies(core_df_pre['Occupation'],prefix='oc',drop_first=True),\n",
        "                         pd.get_dummies(core_df_pre['Credit_Product'],prefix='cp',drop_first=True),\n",
        "                         pd.get_dummies(core_df_pre['Channel_Code'],prefix='cc',drop_first=True),\n",
        "                         ], axis=1).drop(['Region_Code','Occupation','Credit_Product','Channel_Code'], axis=1)\n",
        "\n",
        "test_df_pre = pd.concat([test_df_pre,pd.get_dummies(test_df_pre['Region_Code'],prefix='RC',drop_first=True),\n",
        "                         pd.get_dummies(test_df_pre['Occupation'],prefix='oc',drop_first=True),\n",
        "                         pd.get_dummies(test_df_pre['Credit_Product'],prefix='cp',drop_first=True),\n",
        "                         pd.get_dummies(test_df_pre['Channel_Code'],prefix='cc',drop_first=True),\n",
        "                         ], axis=1).drop(['Region_Code','Occupation','Credit_Product','Channel_Code'], axis=1)\"\"\""
      ],
      "execution_count": 56,
      "outputs": [
        {
          "output_type": "execute_result",
          "data": {
            "application/vnd.google.colaboratory.intrinsic+json": {
              "type": "string"
            },
            "text/plain": [
              "\"core_df_pre = pd.concat([core_df_pre,pd.get_dummies(core_df_pre['Region_Code'],prefix='RC',drop_first=True),\\n                         pd.get_dummies(core_df_pre['Occupation'],prefix='oc',drop_first=True),\\n                         pd.get_dummies(core_df_pre['Credit_Product'],prefix='cp',drop_first=True),\\n                         pd.get_dummies(core_df_pre['Channel_Code'],prefix='cc',drop_first=True),\\n                         ], axis=1).drop(['Region_Code','Occupation','Credit_Product','Channel_Code'], axis=1)\\n\\ntest_df_pre = pd.concat([test_df_pre,pd.get_dummies(test_df_pre['Region_Code'],prefix='RC',drop_first=True),\\n                         pd.get_dummies(test_df_pre['Occupation'],prefix='oc',drop_first=True),\\n                         pd.get_dummies(test_df_pre['Credit_Product'],prefix='cp',drop_first=True),\\n                         pd.get_dummies(test_df_pre['Channel_Code'],prefix='cc',drop_first=True),\\n                         ], axis=1).drop(['Region_Code','Occupation','Credit_Product','Channel_Code'], axis=1)\""
            ]
          },
          "metadata": {
            "tags": []
          },
          "execution_count": 56
        }
      ]
    },
    {
      "cell_type": "markdown",
      "metadata": {
        "id": "QLQ9LcpewqjB"
      },
      "source": [
        "**Model**"
      ]
    },
    {
      "cell_type": "code",
      "metadata": {
        "colab": {
          "base_uri": "https://localhost:8080/"
        },
        "id": "WtF_e_ODz3qJ",
        "outputId": "b8c2ef9a-7b0c-4c9d-92bc-702bfc7a2994"
      },
      "source": [
        " # installing CatBoost and Lightgbm\n",
        " !pip3 install catboost\n",
        " !pip install lightgbm"
      ],
      "execution_count": 57,
      "outputs": [
        {
          "output_type": "stream",
          "text": [
            "Requirement already satisfied: catboost in /usr/local/lib/python3.7/dist-packages (0.25.1)\n",
            "Requirement already satisfied: scipy in /usr/local/lib/python3.7/dist-packages (from catboost) (1.4.1)\n",
            "Requirement already satisfied: graphviz in /usr/local/lib/python3.7/dist-packages (from catboost) (0.10.1)\n",
            "Requirement already satisfied: matplotlib in /usr/local/lib/python3.7/dist-packages (from catboost) (3.2.2)\n",
            "Requirement already satisfied: six in /usr/local/lib/python3.7/dist-packages (from catboost) (1.15.0)\n",
            "Requirement already satisfied: plotly in /usr/local/lib/python3.7/dist-packages (from catboost) (4.4.1)\n",
            "Requirement already satisfied: numpy>=1.16.0 in /usr/local/lib/python3.7/dist-packages (from catboost) (1.19.5)\n",
            "Requirement already satisfied: pandas>=0.24.0 in /usr/local/lib/python3.7/dist-packages (from catboost) (1.1.5)\n",
            "Requirement already satisfied: kiwisolver>=1.0.1 in /usr/local/lib/python3.7/dist-packages (from matplotlib->catboost) (1.3.1)\n",
            "Requirement already satisfied: cycler>=0.10 in /usr/local/lib/python3.7/dist-packages (from matplotlib->catboost) (0.10.0)\n",
            "Requirement already satisfied: pyparsing!=2.0.4,!=2.1.2,!=2.1.6,>=2.0.1 in /usr/local/lib/python3.7/dist-packages (from matplotlib->catboost) (2.4.7)\n",
            "Requirement already satisfied: python-dateutil>=2.1 in /usr/local/lib/python3.7/dist-packages (from matplotlib->catboost) (2.8.1)\n",
            "Requirement already satisfied: retrying>=1.3.3 in /usr/local/lib/python3.7/dist-packages (from plotly->catboost) (1.3.3)\n",
            "Requirement already satisfied: pytz>=2017.2 in /usr/local/lib/python3.7/dist-packages (from pandas>=0.24.0->catboost) (2018.9)\n",
            "Requirement already satisfied: lightgbm in /usr/local/lib/python3.7/dist-packages (2.2.3)\n",
            "Requirement already satisfied: scikit-learn in /usr/local/lib/python3.7/dist-packages (from lightgbm) (0.22.2.post1)\n",
            "Requirement already satisfied: numpy in /usr/local/lib/python3.7/dist-packages (from lightgbm) (1.19.5)\n",
            "Requirement already satisfied: scipy in /usr/local/lib/python3.7/dist-packages (from lightgbm) (1.4.1)\n",
            "Requirement already satisfied: joblib>=0.11 in /usr/local/lib/python3.7/dist-packages (from scikit-learn->lightgbm) (1.0.1)\n"
          ],
          "name": "stdout"
        }
      ]
    },
    {
      "cell_type": "code",
      "metadata": {
        "id": "HGisnbQVwqEX"
      },
      "source": [
        "# importing lbraries\n",
        "from sklearn.ensemble import RandomForestClassifier, GradientBoostingClassifier, AdaBoostClassifier\n",
        "from sklearn.tree import DecisionTreeClassifier\n",
        "from sklearn.linear_model import  LogisticRegression\n",
        "from sklearn.neighbors import KNeighborsClassifier\n",
        "from sklearn.svm import LinearSVC, SVC\n",
        "from sklearn.naive_bayes import GaussianNB\n",
        "\n",
        "import xgboost as xgb\n",
        "import catboost as cb\n",
        "import lightgbm as lgb\n",
        "\n",
        "from sklearn.metrics import accuracy_score, classification_report, roc_auc_score, roc_curve, f1_score, precision_score, recall_score \n",
        "from sklearn.preprocessing import normalize\n",
        "from sklearn.model_selection import train_test_split, GridSearchCV, RandomizedSearchCV"
      ],
      "execution_count": 58,
      "outputs": []
    },
    {
      "cell_type": "code",
      "metadata": {
        "id": "WVls8RCD0eC1"
      },
      "source": [
        "# assigning X and y\n",
        "X = core_df_pre.drop(['Is_Lead'],axis=1)\n",
        "y = core_df_pre['Is_Lead']\n",
        "\n",
        "# Data Split\n",
        "X_train,X_val,y_train,y_val = train_test_split(X,y,test_size=0.10,random_state=1425,stratify=y)"
      ],
      "execution_count": 59,
      "outputs": []
    },
    {
      "cell_type": "code",
      "metadata": {
        "colab": {
          "base_uri": "https://localhost:8080/"
        },
        "id": "BZsldS7J1NAL",
        "outputId": "e2171aa3-7b92-4618-b0b4-9dd203229e09"
      },
      "source": [
        "# appliying data to different Models with default Parameters\n",
        "model_list = {'Random Forest Classifier':RandomForestClassifier(),\n",
        "              'GradientBoostingClassifier':GradientBoostingClassifier(),\n",
        "              'AdaBoostClassifier':AdaBoostClassifier(),\n",
        "              'DecisionTreeClassifier':DecisionTreeClassifier(),\n",
        "              'CatBoost':cb.CatBoostClassifier(verbose=0),\n",
        "              'XGBoost':xgb.XGBClassifier(class_weight='balanced'),\n",
        "              'LGBM':lgb.LGBMClassifier(class_weight='balanced')}\n",
        "model_perfomance ={}\n",
        "for ind_model in model_list.items():\n",
        "  b_model = ind_model[1]\n",
        "  b_model.fit(X_train,y_train)\n",
        "  y_pre = b_model.predict_proba(X_val)[:,1]\n",
        "  roc_score = roc_auc_score(y_val,y_pre)\n",
        "  model_perfomance[ind_model[0]] = {'roc':roc_score,'feature_importance':[x for x in zip(X_train.columns,(b_model.feature_importances_)*100)]}\n",
        "\n",
        "mod_dic ={}\n",
        "for y in model_perfomance.items():\n",
        "  print(y[0]) \n",
        "  for x in y[1].items():\n",
        "    if x[0] == 'roc':\n",
        "      print('     ')\n",
        "      print('ROC:',x[1])\n",
        "      print('     ')\n",
        "    else:\n",
        "      for z in x[1]:\n",
        "        print(z[0],':',z[1])\n",
        "  print('     ')\n",
        "  print('==='*6)\n",
        "  print('     ')"
      ],
      "execution_count": 60,
      "outputs": [
        {
          "output_type": "stream",
          "text": [
            "Random Forest Classifier\n",
            "     \n",
            "ROC: 0.8569423567402952\n",
            "     \n",
            "Gender : 1.4816995953838652\n",
            "Age : 13.474006342130659\n",
            "Region_Code : 9.583687801436742\n",
            "Occupation : 3.067474725962285\n",
            "Channel_Code : 4.610117718491606\n",
            "Vintage : 13.807297592408375\n",
            "Credit_Product : 29.431099148037465\n",
            "Avg_Account_Balance : 23.243897321637974\n",
            "Is_Active : 1.3007197545110212\n",
            "     \n",
            "==================\n",
            "     \n",
            "GradientBoostingClassifier\n",
            "     \n",
            "ROC: 0.8726166399667519\n",
            "     \n",
            "Gender : 0.018415487635244292\n",
            "Age : 2.7160792977382524\n",
            "Region_Code : 0.015353345580118003\n",
            "Occupation : 4.640268398902646\n",
            "Channel_Code : 0.8986829272106533\n",
            "Vintage : 6.150088466509626\n",
            "Credit_Product : 83.1038606666787\n",
            "Avg_Account_Balance : 0.03469363263335363\n",
            "Is_Active : 2.4225577771114177\n",
            "     \n",
            "==================\n",
            "     \n",
            "AdaBoostClassifier\n",
            "     \n",
            "ROC: 0.8649721739515003\n",
            "     \n",
            "Gender : 2.0\n",
            "Age : 24.0\n",
            "Region_Code : 0.0\n",
            "Occupation : 26.0\n",
            "Channel_Code : 6.0\n",
            "Vintage : 32.0\n",
            "Credit_Product : 6.0\n",
            "Avg_Account_Balance : 2.0\n",
            "Is_Active : 2.0\n",
            "     \n",
            "==================\n",
            "     \n",
            "DecisionTreeClassifier\n",
            "     \n",
            "ROC: 0.7073433442087985\n",
            "     \n",
            "Gender : 1.9101028038455938\n",
            "Age : 10.626778527521777\n",
            "Region_Code : 8.441792370486926\n",
            "Occupation : 2.323057246261644\n",
            "Channel_Code : 2.4183271751571533\n",
            "Vintage : 11.456184270994001\n",
            "Credit_Product : 34.612414669505604\n",
            "Avg_Account_Balance : 26.438165665226006\n",
            "Is_Active : 1.7731772710013127\n",
            "     \n",
            "==================\n",
            "     \n",
            "CatBoost\n",
            "     \n",
            "ROC: 0.8733994191917361\n",
            "     \n",
            "Gender : 79.81262256459755\n",
            "Age : 1000.9661594467086\n",
            "Region_Code : 335.23375800414937\n",
            "Occupation : 2179.728892563629\n",
            "Channel_Code : 257.3940876821091\n",
            "Vintage : 938.3640376831768\n",
            "Credit_Product : 4500.851411078683\n",
            "Avg_Account_Balance : 545.1050810512501\n",
            "Is_Active : 162.54394992569533\n",
            "     \n",
            "==================\n",
            "     \n",
            "XGBoost\n",
            "     \n",
            "ROC: 0.8725248532895883\n",
            "     \n",
            "Gender : 0.56336915\n",
            "Age : 5.319126\n",
            "Region_Code : 0.2155588\n",
            "Occupation : 6.254955\n",
            "Channel_Code : 8.0940275\n",
            "Vintage : 7.1865983\n",
            "Credit_Product : 64.63905\n",
            "Avg_Account_Balance : 0.1820274\n",
            "Is_Active : 7.545279\n",
            "     \n",
            "==================\n",
            "     \n",
            "LGBM\n",
            "     \n",
            "ROC: 0.8750720903188591\n",
            "     \n",
            "Gender : 7900\n",
            "Age : 61500\n",
            "Region_Code : 30200\n",
            "Occupation : 39000\n",
            "Channel_Code : 15400\n",
            "Vintage : 58600\n",
            "Credit_Product : 13300\n",
            "Avg_Account_Balance : 61600\n",
            "Is_Active : 12500\n",
            "     \n",
            "==================\n",
            "     \n"
          ],
          "name": "stdout"
        }
      ]
    },
    {
      "cell_type": "markdown",
      "metadata": {
        "id": "gx3P_fT3CgmM"
      },
      "source": [
        "These Models provides higher ROC Score with Default hyperparameters.\n",
        "* Random Forest Classifier\n",
        "* GradientBoostingClassifier\n",
        "* AdaBoostClassifier\n",
        "* DecisionTreeClassifier\n",
        "* CatBoost\n",
        "* XGBoost\n",
        "* LGBM\n",
        "\n",
        "LGBM Model gives High Score.\n"
      ]
    },
    {
      "cell_type": "code",
      "metadata": {
        "id": "N0utph5PDM1X"
      },
      "source": [
        "# Creating Model\n",
        "model = lgb.LGBMClassifier(class_weight='balanced',max_depth=5, n_estimators=90)"
      ],
      "execution_count": 61,
      "outputs": []
    },
    {
      "cell_type": "code",
      "metadata": {
        "colab": {
          "base_uri": "https://localhost:8080/"
        },
        "id": "_iWRF29U4PNm",
        "outputId": "113c96e3-07fe-4dac-b896-3ca0129d744c"
      },
      "source": [
        "# Randomised Search CV\n",
        "param_distributions={'n_estimators':[90, 100, 300, 500],'max_depth':[3,5,7]}\n",
        "grid_model = RandomizedSearchCV(model,param_distributions=param_distributions,scoring='accuracy',cv=10)\n",
        "grid_model.fit(X_train,y_train)\n",
        "y_pre_1 = grid_model.predict_proba(X_val)[:,1]\n",
        "roc_score = roc_auc_score(y_val,y_pre_1)\n",
        "print(roc_score)"
      ],
      "execution_count": 62,
      "outputs": [
        {
          "output_type": "stream",
          "text": [
            "0.8722347255656608\n"
          ],
          "name": "stdout"
        }
      ]
    },
    {
      "cell_type": "code",
      "metadata": {
        "colab": {
          "base_uri": "https://localhost:8080/"
        },
        "id": "baPDDIpw5yKj",
        "outputId": "7d2c97f3-b3d5-4d04-8aaf-1265376633ad"
      },
      "source": [
        "# best Parameters\n",
        "grid_model.best_estimator_"
      ],
      "execution_count": 82,
      "outputs": [
        {
          "output_type": "execute_result",
          "data": {
            "text/plain": [
              "LGBMClassifier(boosting_type='gbdt', class_weight='balanced',\n",
              "               colsample_bytree=1.0, importance_type='split', learning_rate=0.1,\n",
              "               max_depth=5, min_child_samples=20, min_child_weight=0.001,\n",
              "               min_split_gain=0.0, n_estimators=500, n_jobs=-1, num_leaves=31,\n",
              "               objective=None, random_state=None, reg_alpha=0.0, reg_lambda=0.0,\n",
              "               silent=True, subsample=1.0, subsample_for_bin=200000,\n",
              "               subsample_freq=0)"
            ]
          },
          "metadata": {
            "tags": []
          },
          "execution_count": 82
        }
      ]
    },
    {
      "cell_type": "code",
      "metadata": {
        "colab": {
          "base_uri": "https://localhost:8080/"
        },
        "id": "YU5TuYZK3Ho3",
        "outputId": "a4b585f5-2c34-4103-df2c-3036fa4641b7"
      },
      "source": [
        "# best Parameters\n",
        "grid_model.best_params_"
      ],
      "execution_count": 81,
      "outputs": [
        {
          "output_type": "execute_result",
          "data": {
            "text/plain": [
              "{'max_depth': 5, 'n_estimators': 500}"
            ]
          },
          "metadata": {
            "tags": []
          },
          "execution_count": 81
        }
      ]
    },
    {
      "cell_type": "code",
      "metadata": {
        "id": "yxm2lR3x1n4U"
      },
      "source": [
        "#y_pre_test_1 = grid_model.predict_proba(test_df_pre)[:,1]"
      ],
      "execution_count": 63,
      "outputs": []
    },
    {
      "cell_type": "code",
      "metadata": {
        "id": "QeTzLx7YxsPL",
        "colab": {
          "base_uri": "https://localhost:8080/",
          "height": 35
        },
        "outputId": "d6cf990d-a963-4d9f-cf3b-d3ab6fce4520"
      },
      "source": [
        "\"\"\"model = GradientBoostingClassifier()\n",
        "model.fit(X_train,y_train)\n",
        "y_pre_2 = model.predict_proba(X_val)[:,1]\n",
        "roc_score = roc_auc_score(y_val,y_pre_2)\n",
        "print(roc_score)\"\"\""
      ],
      "execution_count": 64,
      "outputs": [
        {
          "output_type": "execute_result",
          "data": {
            "application/vnd.google.colaboratory.intrinsic+json": {
              "type": "string"
            },
            "text/plain": [
              "'model = GradientBoostingClassifier()\\nmodel.fit(X_train,y_train)\\ny_pre_2 = model.predict_proba(X_val)[:,1]\\nroc_score = roc_auc_score(y_val,y_pre_2)\\nprint(roc_score)'"
            ]
          },
          "metadata": {
            "tags": []
          },
          "execution_count": 64
        }
      ]
    },
    {
      "cell_type": "code",
      "metadata": {
        "id": "S5bNOMek15yL"
      },
      "source": [
        "#y_pre_test_2 = model.predict_proba(test_df_pre)[:,1]"
      ],
      "execution_count": 65,
      "outputs": []
    },
    {
      "cell_type": "code",
      "metadata": {
        "id": "ixMGfptCx1uh",
        "colab": {
          "base_uri": "https://localhost:8080/",
          "height": 52
        },
        "outputId": "0de27106-f305-4655-c35f-40914e14a53d"
      },
      "source": [
        "\"\"\"model = xgb.XGBClassifier(class_weight='balanced')\n",
        "model.fit(X_train,y_train)\n",
        "y_pre_3 = model.predict_proba(X_val)[:,1]\n",
        "roc_score = roc_auc_score(y_val,y_pre_3)\n",
        "print(roc_score)\"\"\""
      ],
      "execution_count": 66,
      "outputs": [
        {
          "output_type": "execute_result",
          "data": {
            "application/vnd.google.colaboratory.intrinsic+json": {
              "type": "string"
            },
            "text/plain": [
              "\"model = xgb.XGBClassifier(class_weight='balanced')\\nmodel.fit(X_train,y_train)\\ny_pre_3 = model.predict_proba(X_val)[:,1]\\nroc_score = roc_auc_score(y_val,y_pre_3)\\nprint(roc_score)\""
            ]
          },
          "metadata": {
            "tags": []
          },
          "execution_count": 66
        }
      ]
    },
    {
      "cell_type": "code",
      "metadata": {
        "id": "viALxq4D182Z"
      },
      "source": [
        "#y_pre_test_3 = model.predict_proba(test_df_pre)[:,1]"
      ],
      "execution_count": 67,
      "outputs": []
    },
    {
      "cell_type": "code",
      "metadata": {
        "id": "VhHVJr9ZyyT0",
        "colab": {
          "base_uri": "https://localhost:8080/",
          "height": 35
        },
        "outputId": "d848e376-0a61-47d2-b219-3af8d91b2633"
      },
      "source": [
        "\"\"\"model = cb.CatBoostClassifier(verbose=0)\n",
        "model.fit(X_train,y_train)\n",
        "y_pre_4 = model.predict_proba(X_val)[:,1]\n",
        "roc_score = roc_auc_score(y_val,y_pre_4)\n",
        "print(roc_score)\"\"\""
      ],
      "execution_count": 68,
      "outputs": [
        {
          "output_type": "execute_result",
          "data": {
            "application/vnd.google.colaboratory.intrinsic+json": {
              "type": "string"
            },
            "text/plain": [
              "'model = cb.CatBoostClassifier(verbose=0)\\nmodel.fit(X_train,y_train)\\ny_pre_4 = model.predict_proba(X_val)[:,1]\\nroc_score = roc_auc_score(y_val,y_pre_4)\\nprint(roc_score)'"
            ]
          },
          "metadata": {
            "tags": []
          },
          "execution_count": 68
        }
      ]
    },
    {
      "cell_type": "code",
      "metadata": {
        "id": "VcNH1f-n1_AN"
      },
      "source": [
        "#y_pre_test_4 = model.predict_proba(test_df_pre)[:,1]"
      ],
      "execution_count": 69,
      "outputs": []
    },
    {
      "cell_type": "code",
      "metadata": {
        "id": "yxxEolkkFp3C",
        "colab": {
          "base_uri": "https://localhost:8080/",
          "height": 35
        },
        "outputId": "69bd09ee-7266-466d-c539-d189d5102ba7"
      },
      "source": [
        "\"\"\"model = RandomForestClassifier()\n",
        "model.fit(X_train,y_train)\n",
        "y_pre_5 = model.predict_proba(X_val)[:,1]\n",
        "roc_score = roc_auc_score(y_val,y_pre_5)\n",
        "print(roc_score)\"\"\""
      ],
      "execution_count": 70,
      "outputs": [
        {
          "output_type": "execute_result",
          "data": {
            "application/vnd.google.colaboratory.intrinsic+json": {
              "type": "string"
            },
            "text/plain": [
              "'model = RandomForestClassifier()\\nmodel.fit(X_train,y_train)\\ny_pre_5 = model.predict_proba(X_val)[:,1]\\nroc_score = roc_auc_score(y_val,y_pre_5)\\nprint(roc_score)'"
            ]
          },
          "metadata": {
            "tags": []
          },
          "execution_count": 70
        }
      ]
    },
    {
      "cell_type": "code",
      "metadata": {
        "id": "GVOnv5WgF7OX"
      },
      "source": [
        "#y_pre_test_5 = model.predict_proba(test_df_pre)[:,1]"
      ],
      "execution_count": 71,
      "outputs": []
    },
    {
      "cell_type": "code",
      "metadata": {
        "id": "eDjDoKOUyHZS",
        "colab": {
          "base_uri": "https://localhost:8080/",
          "height": 35
        },
        "outputId": "103ea77f-bc24-4a3c-ed6e-26cbe934e231"
      },
      "source": [
        "\"\"\"y_pre = (y_pre_1+y_pre_2+y_pre_3+y_pre_4+y_pre_5)/5\n",
        "\n",
        "roc_score = roc_auc_score(y_val,y_pre)\n",
        "print(roc_score)\"\"\""
      ],
      "execution_count": 72,
      "outputs": [
        {
          "output_type": "execute_result",
          "data": {
            "application/vnd.google.colaboratory.intrinsic+json": {
              "type": "string"
            },
            "text/plain": [
              "'y_pre = (y_pre_1+y_pre_2+y_pre_3+y_pre_4+y_pre_5)/5\\n\\nroc_score = roc_auc_score(y_val,y_pre)\\nprint(roc_score)'"
            ]
          },
          "metadata": {
            "tags": []
          },
          "execution_count": 72
        }
      ]
    },
    {
      "cell_type": "code",
      "metadata": {
        "id": "21rrkeNB2Glu"
      },
      "source": [
        "#y_test_pre = (y_pre_test_1+y_pre_test_2+y_pre_test_3+y_pre_test_4+y_pre_test_5)/5"
      ],
      "execution_count": 73,
      "outputs": []
    },
    {
      "cell_type": "code",
      "metadata": {
        "id": "kiOo2ix8ssof",
        "colab": {
          "base_uri": "https://localhost:8080/",
          "height": 35
        },
        "outputId": "791d14dd-09c7-46c7-90b6-4678e6008d9e"
      },
      "source": [
        "\"\"\"for x in zip(X.columns,model.feature_importances_):\n",
        "  print(x)\"\"\""
      ],
      "execution_count": 74,
      "outputs": [
        {
          "output_type": "execute_result",
          "data": {
            "application/vnd.google.colaboratory.intrinsic+json": {
              "type": "string"
            },
            "text/plain": [
              "'for x in zip(X.columns,model.feature_importances_):\\n  print(x)'"
            ]
          },
          "metadata": {
            "tags": []
          },
          "execution_count": 74
        }
      ]
    },
    {
      "cell_type": "code",
      "metadata": {
        "id": "YmnwipnZWQ_X"
      },
      "source": [
        "# Creating Output.csv\n",
        "y_test_pre = grid_model.predict_proba(test_df_pre)[:,1]\n",
        "test_df_pre['Is_Lead'] = y_test_pre\n",
        "test_df_pre['Is_Lead'].to_csv('output.csv')"
      ],
      "execution_count": 75,
      "outputs": []
    },
    {
      "cell_type": "markdown",
      "metadata": {
        "id": "qLgZJT3C4EqE"
      },
      "source": [
        "# **Failed Approaches**\n",
        "* Binning on 'Avg_Account_Balance' and 'Age' Column.\n",
        "* Balancing the Target Variable throughOversamling -SMOTE.\n",
        "* Log Transform on 'Avg_Account_Balance'.\n",
        "* Different Compinations of Input Features\n",
        "* Blended Models (Xgboost + CatBoost + Lgbm + GradientBoost)\n",
        "\n",
        "# Best Model \n",
        "Light GBM Model: \n",
        "* LGBMClassifier\n",
        "              (boosting_type='gbdt', class_weight='balanced',\n",
        "               colsample_bytree=1.0, importance_type='split', learning_rate=0.1,\n",
        "               max_depth=5, min_child_samples=20, min_child_weight=0.001,\n",
        "               min_split_gain=0.0, n_estimators=500, n_jobs=-1, num_leaves=31,\n",
        "               objective=None, random_state=None, reg_alpha=0.0, reg_lambda=0.0,\n",
        "               silent=True, subsample=1.0, subsample_for_bin=200000,\n",
        "               subsample_freq=0)\n",
        "\n",
        "This Model gave best score of 0.8727313400(Public Leaderboard) and 0.8729829080(Private Leaderboard)\n",
        "\n",
        "![Capture.PNG](data:image/png;base64,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)"
      ]
    }
  ]
}
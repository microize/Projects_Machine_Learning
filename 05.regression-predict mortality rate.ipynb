{
  "nbformat": 4,
  "nbformat_minor": 0,
  "metadata": {
    "colab": {
      "name": "Actify Data Labs.ipynb",
      "provenance": [],
      "collapsed_sections": [],
      "toc_visible": true
    },
    "kernelspec": {
      "name": "python3",
      "display_name": "Python 3"
    },
    "language_info": {
      "name": "python"
    },
    "accelerator": "GPU"
  },
  "cells": [
    {
      "cell_type": "markdown",
      "metadata": {
        "id": "cNC3CtJpIEJK"
      },
      "source": [
        "## Mortality Rate\n",
        "COVID-19 pandemic has brought a lot of changes in human life and taught us various life lessons. Symptoms are enough to seek help and get tested but when you also have a dataset related to symptoms, it can help in predicting the mortality rate across regions. That would really help the government and health workers in making key decisions.\n",
        "\n",
        "## Goal: \n",
        "Build a Machine learning model that can predict the mortality rate based on different symptoms and the patient’s condition.\n",
        "\n",
        "## Data Description: \n",
        "Data is collected by health workers from a wide range of patients. This data set consists of a variety of attributes that explains different symptoms and different immunity levels of patients.\n",
        "\n",
        "# Evaluation Metric:\n",
        "Root Mean Square Error (RMSE)"
      ]
    },
    {
      "cell_type": "code",
      "metadata": {
        "id": "L0hvUsNPG7YX"
      },
      "source": [
        "# importing libraries\n",
        "import pandas as pd\n",
        "import numpy as np\n",
        "import matplotlib.pyplot as plt\n",
        "import seaborn as sns\n",
        "\n",
        "# display option\n",
        "pd.set_option('display.max_columns',None)\n",
        "pd.set_option('display.max_rows',None)"
      ],
      "execution_count": 118,
      "outputs": []
    },
    {
      "cell_type": "code",
      "metadata": {
        "id": "x5f9p0p6IGil"
      },
      "source": [
        "# read data\n",
        "train = pd.read_excel('/content/drive/MyDrive/Data-colab/skillenza - symptoms and mortality rate/training_data.xlsx')\n",
        "test = pd.read_excel('/content/drive/MyDrive/Data-colab/skillenza - symptoms and mortality rate/test_data.xlsx')\n",
        "sample = pd.read_excel('/content/drive/MyDrive/Data-colab/skillenza - symptoms and mortality rate/sample_submission_mortality_rate.xlsx')"
      ],
      "execution_count": 119,
      "outputs": []
    },
    {
      "cell_type": "code",
      "metadata": {
        "colab": {
          "base_uri": "https://localhost:8080/",
          "height": 196
        },
        "id": "P6odNird2Z9G",
        "outputId": "d94b8214-383a-46a5-982f-4f13e541563b"
      },
      "source": [
        "sample.head()\n"
      ],
      "execution_count": 120,
      "outputs": [
        {
          "output_type": "execute_result",
          "data": {
            "text/html": [
              "<div>\n",
              "<style scoped>\n",
              "    .dataframe tbody tr th:only-of-type {\n",
              "        vertical-align: middle;\n",
              "    }\n",
              "\n",
              "    .dataframe tbody tr th {\n",
              "        vertical-align: top;\n",
              "    }\n",
              "\n",
              "    .dataframe thead th {\n",
              "        text-align: right;\n",
              "    }\n",
              "</style>\n",
              "<table border=\"1\" class=\"dataframe\">\n",
              "  <thead>\n",
              "    <tr style=\"text-align: right;\">\n",
              "      <th></th>\n",
              "      <th>ID</th>\n",
              "      <th>Mortality</th>\n",
              "    </tr>\n",
              "  </thead>\n",
              "  <tbody>\n",
              "    <tr>\n",
              "      <th>0</th>\n",
              "      <td>155</td>\n",
              "      <td>1000</td>\n",
              "    </tr>\n",
              "    <tr>\n",
              "      <th>1</th>\n",
              "      <td>156</td>\n",
              "      <td>1000</td>\n",
              "    </tr>\n",
              "    <tr>\n",
              "      <th>2</th>\n",
              "      <td>156</td>\n",
              "      <td>1000</td>\n",
              "    </tr>\n",
              "    <tr>\n",
              "      <th>3</th>\n",
              "      <td>156</td>\n",
              "      <td>1000</td>\n",
              "    </tr>\n",
              "    <tr>\n",
              "      <th>4</th>\n",
              "      <td>157</td>\n",
              "      <td>1000</td>\n",
              "    </tr>\n",
              "  </tbody>\n",
              "</table>\n",
              "</div>"
            ],
            "text/plain": [
              "    ID  Mortality\n",
              "0  155       1000\n",
              "1  156       1000\n",
              "2  156       1000\n",
              "3  156       1000\n",
              "4  157       1000"
            ]
          },
          "metadata": {
            "tags": []
          },
          "execution_count": 120
        }
      ]
    },
    {
      "cell_type": "code",
      "metadata": {
        "colab": {
          "base_uri": "https://localhost:8080/",
          "height": 317
        },
        "id": "paFH8t7AIbPK",
        "outputId": "c3983d5e-1186-44c0-d923-5917290b674a"
      },
      "source": [
        "# 5 rows\n",
        "train.head(5)"
      ],
      "execution_count": 121,
      "outputs": [
        {
          "output_type": "execute_result",
          "data": {
            "text/html": [
              "<div>\n",
              "<style scoped>\n",
              "    .dataframe tbody tr th:only-of-type {\n",
              "        vertical-align: middle;\n",
              "    }\n",
              "\n",
              "    .dataframe tbody tr th {\n",
              "        vertical-align: top;\n",
              "    }\n",
              "\n",
              "    .dataframe thead th {\n",
              "        text-align: right;\n",
              "    }\n",
              "</style>\n",
              "<table border=\"1\" class=\"dataframe\">\n",
              "  <thead>\n",
              "    <tr style=\"text-align: right;\">\n",
              "      <th></th>\n",
              "      <th>ID</th>\n",
              "      <th>Severity</th>\n",
              "      <th>Ventilation</th>\n",
              "      <th>Mean Age</th>\n",
              "      <th>% Male</th>\n",
              "      <th>Any Comorbidity</th>\n",
              "      <th>Hypertension</th>\n",
              "      <th>Diabetes</th>\n",
              "      <th>Cardiovascular Disease (incl. CAD)</th>\n",
              "      <th>Chronic obstructive lung (COPD)</th>\n",
              "      <th>Cancer (Any)</th>\n",
              "      <th>Liver Disease (any)</th>\n",
              "      <th>Cerebrovascular Disease</th>\n",
              "      <th>Chronic kidney/renal disease</th>\n",
              "      <th>Other</th>\n",
              "      <th>Fever (temperature ≥37·3°C)</th>\n",
              "      <th>Average temperature (celsius)</th>\n",
              "      <th>Max temperature (celsius)</th>\n",
              "      <th>Respiratory rate &gt; 24 breaths per min</th>\n",
              "      <th>Cough</th>\n",
              "      <th>Shortness of Breath (dyspnoea)</th>\n",
              "      <th>Headache</th>\n",
              "      <th>Sputum (/Expectoration)</th>\n",
              "      <th>Myalgia (Muscle Pain)</th>\n",
              "      <th>Fatigue</th>\n",
              "      <th>Diarrhoea</th>\n",
              "      <th>Nausea or Vomiting</th>\n",
              "      <th>Loss of Appetite/Anorexia</th>\n",
              "      <th>Disease Severity Asymptomatic</th>\n",
              "      <th>Disease Severity General</th>\n",
              "      <th>Disease Severity Severe</th>\n",
              "      <th>Disease Severity Critical</th>\n",
              "      <th>White Blood Cell Count (10^9/L) - Median</th>\n",
              "      <th>White Blood Cell Count (10^9/L) - LQ</th>\n",
              "      <th>White Blood Cell Count (10^9/L) - UQ</th>\n",
              "      <th>Lymphocyte Count (10^9/L) - Median</th>\n",
              "      <th>Lymphocyte Count (10^9/L) - LQ</th>\n",
              "      <th>Lymphocyte Count (10^9/L) - UQ</th>\n",
              "      <th>Platelet Count (10^9/L) - Median</th>\n",
              "      <th>Platelet Count (10^9/L) - LQ</th>\n",
              "      <th>Platelet Count (10^9/L) - UQ</th>\n",
              "      <th>Hemoglobin (g/L) - Median</th>\n",
              "      <th>Hemoglobin (g/L) - LQ</th>\n",
              "      <th>Hemoglobin (g/L) - UQ</th>\n",
              "      <th>Albumin (g/L)</th>\n",
              "      <th>Alanine Aminotransferase (U/L)</th>\n",
              "      <th>Aspartate Aminotransferase (U/L)</th>\n",
              "      <th>Antibiotic</th>\n",
              "      <th>Antiviral (Any)</th>\n",
              "      <th>Heart failure</th>\n",
              "      <th>Acute kidney injury (AKI)</th>\n",
              "      <th>Secondary infection/ Bacterial infection</th>\n",
              "      <th>ICU length of stay, days</th>\n",
              "      <th>Hospital length of stay, days</th>\n",
              "      <th>Mortality</th>\n",
              "      <th>Unnamed: 55</th>\n",
              "      <th>Unnamed: 56</th>\n",
              "      <th>Unnamed: 57</th>\n",
              "      <th>Unnamed: 58</th>\n",
              "      <th>Unnamed: 59</th>\n",
              "      <th>Unnamed: 60</th>\n",
              "      <th>Unnamed: 61</th>\n",
              "      <th>Unnamed: 62</th>\n",
              "      <th>Unnamed: 63</th>\n",
              "      <th>Unnamed: 64</th>\n",
              "      <th>Unnamed: 65</th>\n",
              "      <th>Unnamed: 66</th>\n",
              "      <th>Unnamed: 67</th>\n",
              "      <th>Unnamed: 68</th>\n",
              "      <th>Unnamed: 69</th>\n",
              "      <th>Unnamed: 70</th>\n",
              "      <th>Unnamed: 71</th>\n",
              "      <th>Unnamed: 72</th>\n",
              "      <th>Unnamed: 73</th>\n",
              "      <th>Unnamed: 74</th>\n",
              "      <th>Unnamed: 75</th>\n",
              "      <th>Unnamed: 76</th>\n",
              "      <th>Unnamed: 77</th>\n",
              "      <th>Unnamed: 78</th>\n",
              "      <th>Unnamed: 79</th>\n",
              "      <th>Unnamed: 80</th>\n",
              "      <th>Unnamed: 81</th>\n",
              "      <th>Unnamed: 82</th>\n",
              "      <th>Unnamed: 83</th>\n",
              "      <th>Unnamed: 84</th>\n",
              "      <th>Unnamed: 85</th>\n",
              "      <th>Unnamed: 86</th>\n",
              "      <th>Unnamed: 87</th>\n",
              "      <th>Unnamed: 88</th>\n",
              "      <th>Unnamed: 89</th>\n",
              "      <th>Unnamed: 90</th>\n",
              "    </tr>\n",
              "  </thead>\n",
              "  <tbody>\n",
              "    <tr>\n",
              "      <th>0</th>\n",
              "      <td>1</td>\n",
              "      <td>All</td>\n",
              "      <td>Both</td>\n",
              "      <td>NaN</td>\n",
              "      <td>0.6230</td>\n",
              "      <td>0.4760</td>\n",
              "      <td>0.3000</td>\n",
              "      <td>0.1900</td>\n",
              "      <td>0.0800</td>\n",
              "      <td>0.0300</td>\n",
              "      <td>0.0168</td>\n",
              "      <td>NaN</td>\n",
              "      <td>NaN</td>\n",
              "      <td>0.0168</td>\n",
              "      <td>0.1200</td>\n",
              "      <td>0.9400</td>\n",
              "      <td>NaN</td>\n",
              "      <td>NaN</td>\n",
              "      <td>0.2900</td>\n",
              "      <td>0.7900</td>\n",
              "      <td>NaN</td>\n",
              "      <td>NaN</td>\n",
              "      <td>0.2300</td>\n",
              "      <td>0.1500</td>\n",
              "      <td>0.2303</td>\n",
              "      <td>0.0471</td>\n",
              "      <td>0.0400</td>\n",
              "      <td>NaN</td>\n",
              "      <td>NaN</td>\n",
              "      <td>0.3770</td>\n",
              "      <td>0.3455</td>\n",
              "      <td>0.2775</td>\n",
              "      <td>6.2</td>\n",
              "      <td>4.5</td>\n",
              "      <td>9.5</td>\n",
              "      <td>1.0</td>\n",
              "      <td>0.6</td>\n",
              "      <td>1.3</td>\n",
              "      <td>206.0</td>\n",
              "      <td>155.0</td>\n",
              "      <td>262.0</td>\n",
              "      <td>128.0</td>\n",
              "      <td>119.0</td>\n",
              "      <td>140.0</td>\n",
              "      <td>32.3</td>\n",
              "      <td>30.0</td>\n",
              "      <td>NaN</td>\n",
              "      <td>0.9476</td>\n",
              "      <td>0.2147</td>\n",
              "      <td>0.2304</td>\n",
              "      <td>0.1466</td>\n",
              "      <td>0.1466</td>\n",
              "      <td>8</td>\n",
              "      <td>11</td>\n",
              "      <td>0.28</td>\n",
              "      <td>NaN</td>\n",
              "      <td>NaN</td>\n",
              "      <td>NaN</td>\n",
              "      <td>NaN</td>\n",
              "      <td>NaN</td>\n",
              "      <td>NaN</td>\n",
              "      <td>NaN</td>\n",
              "      <td>NaN</td>\n",
              "      <td>NaN</td>\n",
              "      <td>NaN</td>\n",
              "      <td>NaN</td>\n",
              "      <td>NaN</td>\n",
              "      <td>NaN</td>\n",
              "      <td>NaN</td>\n",
              "      <td>NaN</td>\n",
              "      <td>NaN</td>\n",
              "      <td>NaN</td>\n",
              "      <td>NaN</td>\n",
              "      <td>NaN</td>\n",
              "      <td>NaN</td>\n",
              "      <td>NaN</td>\n",
              "      <td>NaN</td>\n",
              "      <td>NaN</td>\n",
              "      <td>NaN</td>\n",
              "      <td>NaN</td>\n",
              "      <td>NaN</td>\n",
              "      <td>NaN</td>\n",
              "      <td>NaN</td>\n",
              "      <td>NaN</td>\n",
              "      <td>NaN</td>\n",
              "      <td>NaN</td>\n",
              "      <td>NaN</td>\n",
              "      <td>NaN</td>\n",
              "      <td>NaN</td>\n",
              "      <td>NaN</td>\n",
              "      <td>NaN</td>\n",
              "    </tr>\n",
              "    <tr>\n",
              "      <th>1</th>\n",
              "      <td>1</td>\n",
              "      <td>Severe/Critical Only</td>\n",
              "      <td>Both</td>\n",
              "      <td>NaN</td>\n",
              "      <td>0.7037</td>\n",
              "      <td>0.6667</td>\n",
              "      <td>0.4815</td>\n",
              "      <td>0.3148</td>\n",
              "      <td>0.2407</td>\n",
              "      <td>0.0741</td>\n",
              "      <td>0.0000</td>\n",
              "      <td>NaN</td>\n",
              "      <td>NaN</td>\n",
              "      <td>0.0370</td>\n",
              "      <td>0.2037</td>\n",
              "      <td>0.9444</td>\n",
              "      <td>NaN</td>\n",
              "      <td>NaN</td>\n",
              "      <td>0.6296</td>\n",
              "      <td>0.7222</td>\n",
              "      <td>NaN</td>\n",
              "      <td>NaN</td>\n",
              "      <td>0.2593</td>\n",
              "      <td>0.1481</td>\n",
              "      <td>0.2778</td>\n",
              "      <td>0.0370</td>\n",
              "      <td>0.0556</td>\n",
              "      <td>NaN</td>\n",
              "      <td>NaN</td>\n",
              "      <td>0.0000</td>\n",
              "      <td>0.2222</td>\n",
              "      <td>0.7778</td>\n",
              "      <td>9.8</td>\n",
              "      <td>6.9</td>\n",
              "      <td>13.9</td>\n",
              "      <td>0.6</td>\n",
              "      <td>0.5</td>\n",
              "      <td>0.8</td>\n",
              "      <td>165.5</td>\n",
              "      <td>107.0</td>\n",
              "      <td>229.0</td>\n",
              "      <td>126.0</td>\n",
              "      <td>115.0</td>\n",
              "      <td>138.0</td>\n",
              "      <td>29.1</td>\n",
              "      <td>40.0</td>\n",
              "      <td>NaN</td>\n",
              "      <td>0.9815</td>\n",
              "      <td>0.2222</td>\n",
              "      <td>0.5185</td>\n",
              "      <td>0.5000</td>\n",
              "      <td>0.5000</td>\n",
              "      <td>8</td>\n",
              "      <td>7.5</td>\n",
              "      <td>1</td>\n",
              "      <td>NaN</td>\n",
              "      <td>NaN</td>\n",
              "      <td>NaN</td>\n",
              "      <td>NaN</td>\n",
              "      <td>NaN</td>\n",
              "      <td>NaN</td>\n",
              "      <td>NaN</td>\n",
              "      <td>NaN</td>\n",
              "      <td>NaN</td>\n",
              "      <td>NaN</td>\n",
              "      <td>NaN</td>\n",
              "      <td>NaN</td>\n",
              "      <td>NaN</td>\n",
              "      <td>NaN</td>\n",
              "      <td>NaN</td>\n",
              "      <td>NaN</td>\n",
              "      <td>NaN</td>\n",
              "      <td>NaN</td>\n",
              "      <td>NaN</td>\n",
              "      <td>NaN</td>\n",
              "      <td>NaN</td>\n",
              "      <td>NaN</td>\n",
              "      <td>NaN</td>\n",
              "      <td>NaN</td>\n",
              "      <td>NaN</td>\n",
              "      <td>NaN</td>\n",
              "      <td>NaN</td>\n",
              "      <td>NaN</td>\n",
              "      <td>NaN</td>\n",
              "      <td>NaN</td>\n",
              "      <td>NaN</td>\n",
              "      <td>NaN</td>\n",
              "      <td>NaN</td>\n",
              "      <td>NaN</td>\n",
              "      <td>NaN</td>\n",
              "      <td>NaN</td>\n",
              "    </tr>\n",
              "    <tr>\n",
              "      <th>2</th>\n",
              "      <td>1</td>\n",
              "      <td>All</td>\n",
              "      <td>Both</td>\n",
              "      <td>NaN</td>\n",
              "      <td>0.5912</td>\n",
              "      <td>0.4015</td>\n",
              "      <td>0.2336</td>\n",
              "      <td>0.1387</td>\n",
              "      <td>0.0146</td>\n",
              "      <td>0.0146</td>\n",
              "      <td>0.0700</td>\n",
              "      <td>NaN</td>\n",
              "      <td>NaN</td>\n",
              "      <td>0.0000</td>\n",
              "      <td>0.0803</td>\n",
              "      <td>0.9416</td>\n",
              "      <td>NaN</td>\n",
              "      <td>NaN</td>\n",
              "      <td>0.1606</td>\n",
              "      <td>0.8175</td>\n",
              "      <td>NaN</td>\n",
              "      <td>NaN</td>\n",
              "      <td>0.2190</td>\n",
              "      <td>0.1533</td>\n",
              "      <td>0.2117</td>\n",
              "      <td>0.0511</td>\n",
              "      <td>0.0292</td>\n",
              "      <td>NaN</td>\n",
              "      <td>NaN</td>\n",
              "      <td>0.5255</td>\n",
              "      <td>0.3942</td>\n",
              "      <td>0.0803</td>\n",
              "      <td>5.2</td>\n",
              "      <td>4.3</td>\n",
              "      <td>7.7</td>\n",
              "      <td>1.1</td>\n",
              "      <td>0.8</td>\n",
              "      <td>1.5</td>\n",
              "      <td>220.0</td>\n",
              "      <td>168.0</td>\n",
              "      <td>271.0</td>\n",
              "      <td>128.0</td>\n",
              "      <td>120.0</td>\n",
              "      <td>140.0</td>\n",
              "      <td>33.6</td>\n",
              "      <td>27.0</td>\n",
              "      <td>NaN</td>\n",
              "      <td>0.9343</td>\n",
              "      <td>0.2117</td>\n",
              "      <td>0.1168</td>\n",
              "      <td>0.0073</td>\n",
              "      <td>0.0073</td>\n",
              "      <td>7</td>\n",
              "      <td>12</td>\n",
              "      <td>0</td>\n",
              "      <td>NaN</td>\n",
              "      <td>NaN</td>\n",
              "      <td>NaN</td>\n",
              "      <td>NaN</td>\n",
              "      <td>NaN</td>\n",
              "      <td>NaN</td>\n",
              "      <td>NaN</td>\n",
              "      <td>NaN</td>\n",
              "      <td>NaN</td>\n",
              "      <td>NaN</td>\n",
              "      <td>NaN</td>\n",
              "      <td>NaN</td>\n",
              "      <td>NaN</td>\n",
              "      <td>NaN</td>\n",
              "      <td>NaN</td>\n",
              "      <td>NaN</td>\n",
              "      <td>NaN</td>\n",
              "      <td>NaN</td>\n",
              "      <td>NaN</td>\n",
              "      <td>NaN</td>\n",
              "      <td>NaN</td>\n",
              "      <td>NaN</td>\n",
              "      <td>NaN</td>\n",
              "      <td>NaN</td>\n",
              "      <td>NaN</td>\n",
              "      <td>NaN</td>\n",
              "      <td>NaN</td>\n",
              "      <td>NaN</td>\n",
              "      <td>NaN</td>\n",
              "      <td>NaN</td>\n",
              "      <td>NaN</td>\n",
              "      <td>NaN</td>\n",
              "      <td>NaN</td>\n",
              "      <td>NaN</td>\n",
              "      <td>NaN</td>\n",
              "      <td>NaN</td>\n",
              "    </tr>\n",
              "    <tr>\n",
              "      <th>3</th>\n",
              "      <td>2</td>\n",
              "      <td>All</td>\n",
              "      <td>Both</td>\n",
              "      <td>NaN</td>\n",
              "      <td>0.6030</td>\n",
              "      <td>NaN</td>\n",
              "      <td>NaN</td>\n",
              "      <td>0.1160</td>\n",
              "      <td>NaN</td>\n",
              "      <td>NaN</td>\n",
              "      <td>0.0300</td>\n",
              "      <td>NaN</td>\n",
              "      <td>0.065</td>\n",
              "      <td>NaN</td>\n",
              "      <td>NaN</td>\n",
              "      <td>0.9150</td>\n",
              "      <td>36.5</td>\n",
              "      <td>NaN</td>\n",
              "      <td>0.1880</td>\n",
              "      <td>NaN</td>\n",
              "      <td>NaN</td>\n",
              "      <td>NaN</td>\n",
              "      <td>NaN</td>\n",
              "      <td>NaN</td>\n",
              "      <td>NaN</td>\n",
              "      <td>0.0206</td>\n",
              "      <td>0.0425</td>\n",
              "      <td>0.010</td>\n",
              "      <td>NaN</td>\n",
              "      <td>NaN</td>\n",
              "      <td>NaN</td>\n",
              "      <td>NaN</td>\n",
              "      <td>7.0</td>\n",
              "      <td>5.1</td>\n",
              "      <td>9.4</td>\n",
              "      <td>0.9</td>\n",
              "      <td>0.6</td>\n",
              "      <td>1.2</td>\n",
              "      <td>207.0</td>\n",
              "      <td>158.0</td>\n",
              "      <td>284.0</td>\n",
              "      <td>NaN</td>\n",
              "      <td>NaN</td>\n",
              "      <td>NaN</td>\n",
              "      <td>NaN</td>\n",
              "      <td>33.0</td>\n",
              "      <td>34.0</td>\n",
              "      <td>0.9500</td>\n",
              "      <td>0.4700</td>\n",
              "      <td>0.0051</td>\n",
              "      <td>0.0468</td>\n",
              "      <td>0.0365</td>\n",
              "      <td>10</td>\n",
              "      <td>15</td>\n",
              "      <td>0.16</td>\n",
              "      <td>NaN</td>\n",
              "      <td>NaN</td>\n",
              "      <td>NaN</td>\n",
              "      <td>NaN</td>\n",
              "      <td>NaN</td>\n",
              "      <td>NaN</td>\n",
              "      <td>NaN</td>\n",
              "      <td>NaN</td>\n",
              "      <td>NaN</td>\n",
              "      <td>NaN</td>\n",
              "      <td>NaN</td>\n",
              "      <td>NaN</td>\n",
              "      <td>NaN</td>\n",
              "      <td>NaN</td>\n",
              "      <td>NaN</td>\n",
              "      <td>NaN</td>\n",
              "      <td>NaN</td>\n",
              "      <td>NaN</td>\n",
              "      <td>NaN</td>\n",
              "      <td>NaN</td>\n",
              "      <td>NaN</td>\n",
              "      <td>NaN</td>\n",
              "      <td>NaN</td>\n",
              "      <td>NaN</td>\n",
              "      <td>NaN</td>\n",
              "      <td>NaN</td>\n",
              "      <td>NaN</td>\n",
              "      <td>NaN</td>\n",
              "      <td>NaN</td>\n",
              "      <td>NaN</td>\n",
              "      <td>NaN</td>\n",
              "      <td>NaN</td>\n",
              "      <td>NaN</td>\n",
              "      <td>NaN</td>\n",
              "      <td>NaN</td>\n",
              "      <td>NaN</td>\n",
              "    </tr>\n",
              "    <tr>\n",
              "      <th>4</th>\n",
              "      <td>2</td>\n",
              "      <td>All</td>\n",
              "      <td>Both</td>\n",
              "      <td>NaN</td>\n",
              "      <td>0.6160</td>\n",
              "      <td>NaN</td>\n",
              "      <td>NaN</td>\n",
              "      <td>0.1010</td>\n",
              "      <td>NaN</td>\n",
              "      <td>NaN</td>\n",
              "      <td>0.0510</td>\n",
              "      <td>NaN</td>\n",
              "      <td>0.051</td>\n",
              "      <td>NaN</td>\n",
              "      <td>NaN</td>\n",
              "      <td>0.8990</td>\n",
              "      <td>36.5</td>\n",
              "      <td>NaN</td>\n",
              "      <td>0.2160</td>\n",
              "      <td>NaN</td>\n",
              "      <td>NaN</td>\n",
              "      <td>NaN</td>\n",
              "      <td>NaN</td>\n",
              "      <td>NaN</td>\n",
              "      <td>NaN</td>\n",
              "      <td>0.0420</td>\n",
              "      <td>0.0950</td>\n",
              "      <td>0.021</td>\n",
              "      <td>NaN</td>\n",
              "      <td>NaN</td>\n",
              "      <td>NaN</td>\n",
              "      <td>NaN</td>\n",
              "      <td>7.3</td>\n",
              "      <td>5.3</td>\n",
              "      <td>9.6</td>\n",
              "      <td>0.8</td>\n",
              "      <td>0.6</td>\n",
              "      <td>1.4</td>\n",
              "      <td>201.0</td>\n",
              "      <td>155.0</td>\n",
              "      <td>287.0</td>\n",
              "      <td>NaN</td>\n",
              "      <td>NaN</td>\n",
              "      <td>NaN</td>\n",
              "      <td>NaN</td>\n",
              "      <td>33.0</td>\n",
              "      <td>33.0</td>\n",
              "      <td>0.9490</td>\n",
              "      <td>0.9490</td>\n",
              "      <td>0.0000</td>\n",
              "      <td>0.0320</td>\n",
              "      <td>0.0110</td>\n",
              "      <td>6</td>\n",
              "      <td>14</td>\n",
              "      <td>0.15</td>\n",
              "      <td>NaN</td>\n",
              "      <td>NaN</td>\n",
              "      <td>NaN</td>\n",
              "      <td>NaN</td>\n",
              "      <td>NaN</td>\n",
              "      <td>NaN</td>\n",
              "      <td>NaN</td>\n",
              "      <td>NaN</td>\n",
              "      <td>NaN</td>\n",
              "      <td>NaN</td>\n",
              "      <td>NaN</td>\n",
              "      <td>NaN</td>\n",
              "      <td>NaN</td>\n",
              "      <td>NaN</td>\n",
              "      <td>NaN</td>\n",
              "      <td>NaN</td>\n",
              "      <td>NaN</td>\n",
              "      <td>NaN</td>\n",
              "      <td>NaN</td>\n",
              "      <td>NaN</td>\n",
              "      <td>NaN</td>\n",
              "      <td>NaN</td>\n",
              "      <td>NaN</td>\n",
              "      <td>NaN</td>\n",
              "      <td>NaN</td>\n",
              "      <td>NaN</td>\n",
              "      <td>NaN</td>\n",
              "      <td>NaN</td>\n",
              "      <td>NaN</td>\n",
              "      <td>NaN</td>\n",
              "      <td>NaN</td>\n",
              "      <td>NaN</td>\n",
              "      <td>NaN</td>\n",
              "      <td>NaN</td>\n",
              "      <td>NaN</td>\n",
              "      <td>NaN</td>\n",
              "    </tr>\n",
              "  </tbody>\n",
              "</table>\n",
              "</div>"
            ],
            "text/plain": [
              "   ID              Severity Ventilation  Mean Age  % Male  Any Comorbidity  \\\n",
              "0   1                   All        Both       NaN  0.6230           0.4760   \n",
              "1   1  Severe/Critical Only        Both       NaN  0.7037           0.6667   \n",
              "2   1                   All        Both       NaN  0.5912           0.4015   \n",
              "3   2                   All        Both       NaN  0.6030              NaN   \n",
              "4   2                   All        Both       NaN  0.6160              NaN   \n",
              "\n",
              "   Hypertension  Diabetes  Cardiovascular Disease (incl. CAD)  \\\n",
              "0        0.3000    0.1900                              0.0800   \n",
              "1        0.4815    0.3148                              0.2407   \n",
              "2        0.2336    0.1387                              0.0146   \n",
              "3           NaN    0.1160                                 NaN   \n",
              "4           NaN    0.1010                                 NaN   \n",
              "\n",
              "   Chronic obstructive lung (COPD)  Cancer (Any)  Liver Disease (any)  \\\n",
              "0                           0.0300        0.0168                  NaN   \n",
              "1                           0.0741        0.0000                  NaN   \n",
              "2                           0.0146        0.0700                  NaN   \n",
              "3                              NaN        0.0300                  NaN   \n",
              "4                              NaN        0.0510                  NaN   \n",
              "\n",
              "   Cerebrovascular Disease  Chronic kidney/renal disease   Other  \\\n",
              "0                      NaN                        0.0168  0.1200   \n",
              "1                      NaN                        0.0370  0.2037   \n",
              "2                      NaN                        0.0000  0.0803   \n",
              "3                    0.065                           NaN     NaN   \n",
              "4                    0.051                           NaN     NaN   \n",
              "\n",
              "   Fever (temperature ≥37·3°C)  Average temperature (celsius)  \\\n",
              "0                       0.9400                            NaN   \n",
              "1                       0.9444                            NaN   \n",
              "2                       0.9416                            NaN   \n",
              "3                       0.9150                           36.5   \n",
              "4                       0.8990                           36.5   \n",
              "\n",
              "   Max temperature (celsius)  Respiratory rate > 24 breaths per min   Cough  \\\n",
              "0                        NaN                                 0.2900  0.7900   \n",
              "1                        NaN                                 0.6296  0.7222   \n",
              "2                        NaN                                 0.1606  0.8175   \n",
              "3                        NaN                                 0.1880     NaN   \n",
              "4                        NaN                                 0.2160     NaN   \n",
              "\n",
              "   Shortness of Breath (dyspnoea)  Headache  Sputum (/Expectoration)  \\\n",
              "0                             NaN       NaN                   0.2300   \n",
              "1                             NaN       NaN                   0.2593   \n",
              "2                             NaN       NaN                   0.2190   \n",
              "3                             NaN       NaN                      NaN   \n",
              "4                             NaN       NaN                      NaN   \n",
              "\n",
              "   Myalgia (Muscle Pain)  Fatigue  Diarrhoea  Nausea or Vomiting  \\\n",
              "0                 0.1500   0.2303     0.0471              0.0400   \n",
              "1                 0.1481   0.2778     0.0370              0.0556   \n",
              "2                 0.1533   0.2117     0.0511              0.0292   \n",
              "3                    NaN      NaN     0.0206              0.0425   \n",
              "4                    NaN      NaN     0.0420              0.0950   \n",
              "\n",
              "   Loss of Appetite/Anorexia  Disease Severity Asymptomatic  \\\n",
              "0                        NaN                            NaN   \n",
              "1                        NaN                            NaN   \n",
              "2                        NaN                            NaN   \n",
              "3                      0.010                            NaN   \n",
              "4                      0.021                            NaN   \n",
              "\n",
              "   Disease Severity General  Disease Severity Severe  \\\n",
              "0                    0.3770                   0.3455   \n",
              "1                    0.0000                   0.2222   \n",
              "2                    0.5255                   0.3942   \n",
              "3                       NaN                      NaN   \n",
              "4                       NaN                      NaN   \n",
              "\n",
              "   Disease Severity Critical  White Blood Cell Count (10^9/L) - Median  \\\n",
              "0                     0.2775                                       6.2   \n",
              "1                     0.7778                                       9.8   \n",
              "2                     0.0803                                       5.2   \n",
              "3                        NaN                                       7.0   \n",
              "4                        NaN                                       7.3   \n",
              "\n",
              "   White Blood Cell Count (10^9/L) - LQ  White Blood Cell Count (10^9/L) - UQ  \\\n",
              "0                                   4.5                                   9.5   \n",
              "1                                   6.9                                  13.9   \n",
              "2                                   4.3                                   7.7   \n",
              "3                                   5.1                                   9.4   \n",
              "4                                   5.3                                   9.6   \n",
              "\n",
              "   Lymphocyte Count (10^9/L) - Median  Lymphocyte Count (10^9/L) - LQ  \\\n",
              "0                                 1.0                             0.6   \n",
              "1                                 0.6                             0.5   \n",
              "2                                 1.1                             0.8   \n",
              "3                                 0.9                             0.6   \n",
              "4                                 0.8                             0.6   \n",
              "\n",
              "   Lymphocyte Count (10^9/L) - UQ  Platelet Count (10^9/L) - Median  \\\n",
              "0                             1.3                             206.0   \n",
              "1                             0.8                             165.5   \n",
              "2                             1.5                             220.0   \n",
              "3                             1.2                             207.0   \n",
              "4                             1.4                             201.0   \n",
              "\n",
              "   Platelet Count (10^9/L) - LQ  Platelet Count (10^9/L) - UQ  \\\n",
              "0                         155.0                         262.0   \n",
              "1                         107.0                         229.0   \n",
              "2                         168.0                         271.0   \n",
              "3                         158.0                         284.0   \n",
              "4                         155.0                         287.0   \n",
              "\n",
              "   Hemoglobin (g/L) - Median  Hemoglobin (g/L) - LQ  Hemoglobin (g/L) - UQ  \\\n",
              "0                      128.0                  119.0                  140.0   \n",
              "1                      126.0                  115.0                  138.0   \n",
              "2                      128.0                  120.0                  140.0   \n",
              "3                        NaN                    NaN                    NaN   \n",
              "4                        NaN                    NaN                    NaN   \n",
              "\n",
              "   Albumin (g/L)  Alanine Aminotransferase (U/L)  \\\n",
              "0           32.3                            30.0   \n",
              "1           29.1                            40.0   \n",
              "2           33.6                            27.0   \n",
              "3            NaN                            33.0   \n",
              "4            NaN                            33.0   \n",
              "\n",
              "   Aspartate Aminotransferase (U/L)  Antibiotic  Antiviral (Any)  \\\n",
              "0                               NaN      0.9476           0.2147   \n",
              "1                               NaN      0.9815           0.2222   \n",
              "2                               NaN      0.9343           0.2117   \n",
              "3                              34.0      0.9500           0.4700   \n",
              "4                              33.0      0.9490           0.9490   \n",
              "\n",
              "   Heart failure  Acute kidney injury (AKI)  \\\n",
              "0         0.2304                     0.1466   \n",
              "1         0.5185                     0.5000   \n",
              "2         0.1168                     0.0073   \n",
              "3         0.0051                     0.0468   \n",
              "4         0.0000                     0.0320   \n",
              "\n",
              "   Secondary infection/ Bacterial infection ICU length of stay, days  \\\n",
              "0                                    0.1466                        8   \n",
              "1                                    0.5000                        8   \n",
              "2                                    0.0073                        7   \n",
              "3                                    0.0365                       10   \n",
              "4                                    0.0110                        6   \n",
              "\n",
              "  Hospital length of stay, days Mortality  Unnamed: 55  Unnamed: 56  \\\n",
              "0                            11      0.28          NaN          NaN   \n",
              "1                           7.5         1          NaN          NaN   \n",
              "2                            12         0          NaN          NaN   \n",
              "3                            15      0.16          NaN          NaN   \n",
              "4                            14      0.15          NaN          NaN   \n",
              "\n",
              "   Unnamed: 57  Unnamed: 58  Unnamed: 59  Unnamed: 60  Unnamed: 61  \\\n",
              "0          NaN          NaN          NaN          NaN          NaN   \n",
              "1          NaN          NaN          NaN          NaN          NaN   \n",
              "2          NaN          NaN          NaN          NaN          NaN   \n",
              "3          NaN          NaN          NaN          NaN          NaN   \n",
              "4          NaN          NaN          NaN          NaN          NaN   \n",
              "\n",
              "   Unnamed: 62  Unnamed: 63  Unnamed: 64  Unnamed: 65  Unnamed: 66  \\\n",
              "0          NaN          NaN          NaN          NaN          NaN   \n",
              "1          NaN          NaN          NaN          NaN          NaN   \n",
              "2          NaN          NaN          NaN          NaN          NaN   \n",
              "3          NaN          NaN          NaN          NaN          NaN   \n",
              "4          NaN          NaN          NaN          NaN          NaN   \n",
              "\n",
              "   Unnamed: 67  Unnamed: 68  Unnamed: 69  Unnamed: 70  Unnamed: 71  \\\n",
              "0          NaN          NaN          NaN          NaN          NaN   \n",
              "1          NaN          NaN          NaN          NaN          NaN   \n",
              "2          NaN          NaN          NaN          NaN          NaN   \n",
              "3          NaN          NaN          NaN          NaN          NaN   \n",
              "4          NaN          NaN          NaN          NaN          NaN   \n",
              "\n",
              "   Unnamed: 72  Unnamed: 73  Unnamed: 74  Unnamed: 75  Unnamed: 76  \\\n",
              "0          NaN          NaN          NaN          NaN          NaN   \n",
              "1          NaN          NaN          NaN          NaN          NaN   \n",
              "2          NaN          NaN          NaN          NaN          NaN   \n",
              "3          NaN          NaN          NaN          NaN          NaN   \n",
              "4          NaN          NaN          NaN          NaN          NaN   \n",
              "\n",
              "   Unnamed: 77  Unnamed: 78  Unnamed: 79  Unnamed: 80  Unnamed: 81  \\\n",
              "0          NaN          NaN          NaN          NaN          NaN   \n",
              "1          NaN          NaN          NaN          NaN          NaN   \n",
              "2          NaN          NaN          NaN          NaN          NaN   \n",
              "3          NaN          NaN          NaN          NaN          NaN   \n",
              "4          NaN          NaN          NaN          NaN          NaN   \n",
              "\n",
              "   Unnamed: 82  Unnamed: 83  Unnamed: 84  Unnamed: 85  Unnamed: 86  \\\n",
              "0          NaN          NaN          NaN          NaN          NaN   \n",
              "1          NaN          NaN          NaN          NaN          NaN   \n",
              "2          NaN          NaN          NaN          NaN          NaN   \n",
              "3          NaN          NaN          NaN          NaN          NaN   \n",
              "4          NaN          NaN          NaN          NaN          NaN   \n",
              "\n",
              "   Unnamed: 87  Unnamed: 88  Unnamed: 89  Unnamed: 90  \n",
              "0          NaN          NaN          NaN          NaN  \n",
              "1          NaN          NaN          NaN          NaN  \n",
              "2          NaN          NaN          NaN          NaN  \n",
              "3          NaN          NaN          NaN          NaN  \n",
              "4          NaN          NaN          NaN          NaN  "
            ]
          },
          "metadata": {
            "tags": []
          },
          "execution_count": 121
        }
      ]
    },
    {
      "cell_type": "code",
      "metadata": {
        "colab": {
          "base_uri": "https://localhost:8080/"
        },
        "id": "eHIMjkfCI4j2",
        "outputId": "564c0cc4-3e04-428b-d93a-111b4c8e295f"
      },
      "source": [
        "# Train & test data - (rows and coumns)\n",
        "print('Train Shape:',train.shape)\n",
        "print('Test Shape:',test.shape)"
      ],
      "execution_count": 122,
      "outputs": [
        {
          "output_type": "stream",
          "text": [
            "Train Shape: (475, 91)\n",
            "Test Shape: (53, 54)\n"
          ],
          "name": "stdout"
        }
      ]
    },
    {
      "cell_type": "code",
      "metadata": {
        "colab": {
          "base_uri": "https://localhost:8080/"
        },
        "id": "b1ln5OW5JKYT",
        "outputId": "dfa078ab-8eed-4765-a5ef-5216c96eb5f3"
      },
      "source": [
        "train.columns"
      ],
      "execution_count": 123,
      "outputs": [
        {
          "output_type": "execute_result",
          "data": {
            "text/plain": [
              "Index(['ID', 'Severity', 'Ventilation', 'Mean Age', '% Male',\n",
              "       'Any Comorbidity', 'Hypertension', 'Diabetes',\n",
              "       'Cardiovascular Disease (incl. CAD)', 'Chronic obstructive lung (COPD)',\n",
              "       'Cancer (Any)', 'Liver Disease (any)', 'Cerebrovascular Disease',\n",
              "       'Chronic kidney/renal disease', 'Other', 'Fever (temperature ≥37·3°C)',\n",
              "       'Average temperature (celsius)', 'Max temperature (celsius)',\n",
              "       'Respiratory rate > 24 breaths per min', 'Cough',\n",
              "       'Shortness of Breath (dyspnoea)', 'Headache', 'Sputum (/Expectoration)',\n",
              "       'Myalgia (Muscle Pain)', 'Fatigue', 'Diarrhoea', 'Nausea or Vomiting',\n",
              "       'Loss of Appetite/Anorexia', 'Disease Severity Asymptomatic',\n",
              "       'Disease Severity General', 'Disease Severity Severe',\n",
              "       'Disease Severity Critical', 'White Blood Cell Count (10^9/L) - Median',\n",
              "       'White Blood Cell Count (10^9/L) - LQ',\n",
              "       'White Blood Cell Count (10^9/L) - UQ',\n",
              "       'Lymphocyte Count (10^9/L) - Median', 'Lymphocyte Count (10^9/L) - LQ',\n",
              "       'Lymphocyte Count (10^9/L) - UQ', 'Platelet Count (10^9/L) - Median',\n",
              "       'Platelet Count (10^9/L) - LQ', 'Platelet Count (10^9/L) - UQ',\n",
              "       'Hemoglobin (g/L) - Median', 'Hemoglobin (g/L) - LQ',\n",
              "       'Hemoglobin (g/L) - UQ', 'Albumin (g/L)',\n",
              "       'Alanine Aminotransferase (U/L)', 'Aspartate Aminotransferase (U/L)',\n",
              "       'Antibiotic', 'Antiviral (Any)', 'Heart failure',\n",
              "       'Acute kidney injury (AKI)', 'Secondary infection/ Bacterial infection',\n",
              "       'ICU length of stay, days', 'Hospital length of stay, days',\n",
              "       'Mortality', 'Unnamed: 55', 'Unnamed: 56', 'Unnamed: 57', 'Unnamed: 58',\n",
              "       'Unnamed: 59', 'Unnamed: 60', 'Unnamed: 61', 'Unnamed: 62',\n",
              "       'Unnamed: 63', 'Unnamed: 64', 'Unnamed: 65', 'Unnamed: 66',\n",
              "       'Unnamed: 67', 'Unnamed: 68', 'Unnamed: 69', 'Unnamed: 70',\n",
              "       'Unnamed: 71', 'Unnamed: 72', 'Unnamed: 73', 'Unnamed: 74',\n",
              "       'Unnamed: 75', 'Unnamed: 76', 'Unnamed: 77', 'Unnamed: 78',\n",
              "       'Unnamed: 79', 'Unnamed: 80', 'Unnamed: 81', 'Unnamed: 82',\n",
              "       'Unnamed: 83', 'Unnamed: 84', 'Unnamed: 85', 'Unnamed: 86',\n",
              "       'Unnamed: 87', 'Unnamed: 88', 'Unnamed: 89', 'Unnamed: 90'],\n",
              "      dtype='object')"
            ]
          },
          "metadata": {
            "tags": []
          },
          "execution_count": 123
        }
      ]
    },
    {
      "cell_type": "code",
      "metadata": {
        "colab": {
          "base_uri": "https://localhost:8080/"
        },
        "id": "sgDmpUdyJWLx",
        "outputId": "984f2a0d-75f3-4fde-875d-da6cb9fbaa8d"
      },
      "source": [
        "test.columns"
      ],
      "execution_count": 124,
      "outputs": [
        {
          "output_type": "execute_result",
          "data": {
            "text/plain": [
              "Index(['ID', 'Severity', 'Ventilation', 'Mean Age', '% Male',\n",
              "       'Any Comorbidity', 'Hypertension', 'Diabetes',\n",
              "       'Cardiovascular Disease (incl. CAD)', 'Chronic obstructive lung (COPD)',\n",
              "       'Cancer (Any)', 'Liver Disease (any)', 'Cerebrovascular Disease',\n",
              "       'Chronic kidney/renal disease', 'Other', 'Fever (temperature ≥37·3°C)',\n",
              "       'Average temperature (celsius)', 'Max temperature (celsius)',\n",
              "       'Respiratory rate > 24 breaths per min', 'Cough',\n",
              "       'Shortness of Breath (dyspnoea)', 'Headache', 'Sputum (/Expectoration)',\n",
              "       'Myalgia (Muscle Pain)', 'Fatigue', 'Diarrhoea', 'Nausea or Vomiting',\n",
              "       'Loss of Appetite/Anorexia', 'Disease Severity Asymptomatic',\n",
              "       'Disease Severity General', 'Disease Severity Severe',\n",
              "       'Disease Severity Critical', 'White Blood Cell Count (10^9/L) - Median',\n",
              "       'White Blood Cell Count (10^9/L) - LQ',\n",
              "       'White Blood Cell Count (10^9/L) - UQ',\n",
              "       'Lymphocyte Count (10^9/L) - Median', 'Lymphocyte Count (10^9/L) - LQ',\n",
              "       'Lymphocyte Count (10^9/L) - UQ', 'Platelet Count (10^9/L) - Median',\n",
              "       'Platelet Count (10^9/L) - LQ', 'Platelet Count (10^9/L) - UQ',\n",
              "       'Hemoglobin (g/L) - Median', 'Hemoglobin (g/L) - LQ',\n",
              "       'Hemoglobin (g/L) - UQ', 'Albumin (g/L)',\n",
              "       'Alanine Aminotransferase (U/L)', 'Aspartate Aminotransferase (U/L)',\n",
              "       'Antibiotic', 'Antiviral (Any)', 'Heart failure',\n",
              "       'Acute kidney injury (AKI)', 'Secondary infection/ Bacterial infection',\n",
              "       'ICU length of stay, days', 'Hospital length of stay, days'],\n",
              "      dtype='object')"
            ]
          },
          "metadata": {
            "tags": []
          },
          "execution_count": 124
        }
      ]
    },
    {
      "cell_type": "markdown",
      "metadata": {
        "id": "tsePh7nkr1Ji"
      },
      "source": [
        "Train Dataset has some extra columns that are missing in test data. So we can remove those extra columns from the train data."
      ]
    },
    {
      "cell_type": "code",
      "metadata": {
        "id": "1e-jA_PoKj1N"
      },
      "source": [
        "train = train[['ID', 'Severity', 'Ventilation', 'Mean Age', '% Male',\n",
        "       'Any Comorbidity', 'Hypertension', 'Diabetes',\n",
        "       'Cardiovascular Disease (incl. CAD)', 'Chronic obstructive lung (COPD)',\n",
        "       'Cancer (Any)', 'Liver Disease (any)', 'Cerebrovascular Disease',\n",
        "       'Chronic kidney/renal disease', 'Other', 'Fever (temperature ≥37·3°C)',\n",
        "       'Average temperature (celsius)', 'Max temperature (celsius)',\n",
        "       'Respiratory rate > 24 breaths per min', 'Cough',\n",
        "       'Shortness of Breath (dyspnoea)', 'Headache', 'Sputum (/Expectoration)',\n",
        "       'Myalgia (Muscle Pain)', 'Fatigue', 'Diarrhoea', 'Nausea or Vomiting',\n",
        "       'Loss of Appetite/Anorexia', 'Disease Severity Asymptomatic',\n",
        "       'Disease Severity General', 'Disease Severity Severe',\n",
        "       'Disease Severity Critical', 'White Blood Cell Count (10^9/L) - Median',\n",
        "       'White Blood Cell Count (10^9/L) - LQ',\n",
        "       'White Blood Cell Count (10^9/L) - UQ',\n",
        "       'Lymphocyte Count (10^9/L) - Median', 'Lymphocyte Count (10^9/L) - LQ',\n",
        "       'Lymphocyte Count (10^9/L) - UQ', 'Platelet Count (10^9/L) - Median',\n",
        "       'Platelet Count (10^9/L) - LQ', 'Platelet Count (10^9/L) - UQ',\n",
        "       'Hemoglobin (g/L) - Median', 'Hemoglobin (g/L) - LQ',\n",
        "       'Hemoglobin (g/L) - UQ', 'Albumin (g/L)',\n",
        "       'Alanine Aminotransferase (U/L)', 'Aspartate Aminotransferase (U/L)',\n",
        "       'Antibiotic', 'Antiviral (Any)', 'Heart failure',\n",
        "       'Acute kidney injury (AKI)', 'Secondary infection/ Bacterial infection',\n",
        "       'ICU length of stay, days', 'Hospital length of stay, days','Mortality']]"
      ],
      "execution_count": 125,
      "outputs": []
    },
    {
      "cell_type": "code",
      "metadata": {
        "colab": {
          "base_uri": "https://localhost:8080/"
        },
        "id": "dBNuXBu4KMTl",
        "outputId": "f97ec376-5a7b-450e-9394-d7813192ea52"
      },
      "source": [
        "train.info()"
      ],
      "execution_count": 126,
      "outputs": [
        {
          "output_type": "stream",
          "text": [
            "<class 'pandas.core.frame.DataFrame'>\n",
            "RangeIndex: 475 entries, 0 to 474\n",
            "Data columns (total 55 columns):\n",
            " #   Column                                    Non-Null Count  Dtype  \n",
            "---  ------                                    --------------  -----  \n",
            " 0   ID                                        475 non-null    int64  \n",
            " 1   Severity                                  458 non-null    object \n",
            " 2   Ventilation                               301 non-null    object \n",
            " 3   Mean Age                                  252 non-null    float64\n",
            " 4   % Male                                    430 non-null    float64\n",
            " 5   Any Comorbidity                           222 non-null    float64\n",
            " 6   Hypertension                              309 non-null    float64\n",
            " 7   Diabetes                                  325 non-null    float64\n",
            " 8   Cardiovascular Disease (incl. CAD)        295 non-null    float64\n",
            " 9   Chronic obstructive lung (COPD)           262 non-null    float64\n",
            " 10  Cancer (Any)                              233 non-null    float64\n",
            " 11  Liver Disease (any)                       192 non-null    float64\n",
            " 12  Cerebrovascular Disease                   173 non-null    float64\n",
            " 13  Chronic kidney/renal disease              250 non-null    float64\n",
            " 14  Other                                     199 non-null    float64\n",
            " 15  Fever (temperature ≥37·3°C)               356 non-null    float64\n",
            " 16  Average temperature (celsius)             64 non-null     float64\n",
            " 17  Max temperature (celsius)                 54 non-null     float64\n",
            " 18  Respiratory rate > 24 breaths per min     38 non-null     float64\n",
            " 19  Cough                                     340 non-null    float64\n",
            " 20  Shortness of Breath (dyspnoea)            243 non-null    float64\n",
            " 21  Headache                                  175 non-null    float64\n",
            " 22  Sputum (/Expectoration)                   160 non-null    float64\n",
            " 23  Myalgia (Muscle Pain)                     197 non-null    float64\n",
            " 24  Fatigue                                   221 non-null    float64\n",
            " 25  Diarrhoea                                 260 non-null    float64\n",
            " 26  Nausea or Vomiting                        171 non-null    float64\n",
            " 27  Loss of Appetite/Anorexia                 81 non-null     float64\n",
            " 28  Disease Severity Asymptomatic             167 non-null    float64\n",
            " 29  Disease Severity General                  229 non-null    float64\n",
            " 30  Disease Severity Severe                   214 non-null    float64\n",
            " 31  Disease Severity Critical                 199 non-null    float64\n",
            " 32  White Blood Cell Count (10^9/L) - Median  284 non-null    float64\n",
            " 33  White Blood Cell Count (10^9/L) - LQ      253 non-null    float64\n",
            " 34  White Blood Cell Count (10^9/L) - UQ      251 non-null    float64\n",
            " 35  Lymphocyte Count (10^9/L) - Median        289 non-null    float64\n",
            " 36  Lymphocyte Count (10^9/L) - LQ            237 non-null    float64\n",
            " 37  Lymphocyte Count (10^9/L) - UQ            237 non-null    float64\n",
            " 38  Platelet Count (10^9/L) - Median          180 non-null    float64\n",
            " 39  Platelet Count (10^9/L) - LQ              162 non-null    float64\n",
            " 40  Platelet Count (10^9/L) - UQ              162 non-null    float64\n",
            " 41  Hemoglobin (g/L) - Median                 134 non-null    float64\n",
            " 42  Hemoglobin (g/L) - LQ                     123 non-null    float64\n",
            " 43  Hemoglobin (g/L) - UQ                     123 non-null    float64\n",
            " 44  Albumin (g/L)                             113 non-null    float64\n",
            " 45  Alanine Aminotransferase (U/L)            184 non-null    float64\n",
            " 46  Aspartate Aminotransferase (U/L)          176 non-null    float64\n",
            " 47  Antibiotic                                148 non-null    float64\n",
            " 48  Antiviral (Any)                           199 non-null    float64\n",
            " 49  Heart failure                             76 non-null     float64\n",
            " 50  Acute kidney injury (AKI)                 101 non-null    float64\n",
            " 51  Secondary infection/ Bacterial infection  43 non-null     float64\n",
            " 52  ICU length of stay, days                  31 non-null     object \n",
            " 53  Hospital length of stay, days             183 non-null    object \n",
            " 54  Mortality                                 475 non-null    object \n",
            "dtypes: float64(49), int64(1), object(5)\n",
            "memory usage: 204.2+ KB\n"
          ],
          "name": "stdout"
        }
      ]
    },
    {
      "cell_type": "code",
      "metadata": {
        "colab": {
          "base_uri": "https://localhost:8080/"
        },
        "id": "xiiNI1vGscKK",
        "outputId": "f505ec9d-7e42-4d9b-c7af-613a461d1e19"
      },
      "source": [
        "test.info()"
      ],
      "execution_count": 127,
      "outputs": [
        {
          "output_type": "stream",
          "text": [
            "<class 'pandas.core.frame.DataFrame'>\n",
            "RangeIndex: 53 entries, 0 to 52\n",
            "Data columns (total 54 columns):\n",
            " #   Column                                    Non-Null Count  Dtype  \n",
            "---  ------                                    --------------  -----  \n",
            " 0   ID                                        53 non-null     int64  \n",
            " 1   Severity                                  53 non-null     object \n",
            " 2   Ventilation                               46 non-null     object \n",
            " 3   Mean Age                                  36 non-null     float64\n",
            " 4   % Male                                    45 non-null     float64\n",
            " 5   Any Comorbidity                           14 non-null     float64\n",
            " 6   Hypertension                              26 non-null     float64\n",
            " 7   Diabetes                                  30 non-null     float64\n",
            " 8   Cardiovascular Disease (incl. CAD)        35 non-null     float64\n",
            " 9   Chronic obstructive lung (COPD)           24 non-null     float64\n",
            " 10  Cancer (Any)                              25 non-null     float64\n",
            " 11  Liver Disease (any)                       18 non-null     float64\n",
            " 12  Cerebrovascular Disease                   12 non-null     float64\n",
            " 13  Chronic kidney/renal disease              16 non-null     float64\n",
            " 14  Other                                     2 non-null      float64\n",
            " 15  Fever (temperature ≥37·3°C)               37 non-null     float64\n",
            " 16  Average temperature (celsius)             12 non-null     float64\n",
            " 17  Max temperature (celsius)                 3 non-null      float64\n",
            " 18  Respiratory rate > 24 breaths per min     11 non-null     float64\n",
            " 19  Cough                                     26 non-null     float64\n",
            " 20  Shortness of Breath (dyspnoea)            17 non-null     float64\n",
            " 21  Headache                                  21 non-null     float64\n",
            " 22  Sputum (/Expectoration)                   14 non-null     float64\n",
            " 23  Myalgia (Muscle Pain)                     18 non-null     float64\n",
            " 24  Fatigue                                   17 non-null     float64\n",
            " 25  Diarrhoea                                 26 non-null     float64\n",
            " 26  Nausea or Vomiting                        17 non-null     float64\n",
            " 27  Loss of Appetite/Anorexia                 13 non-null     float64\n",
            " 28  Disease Severity Asymptomatic             22 non-null     float64\n",
            " 29  Disease Severity General                  14 non-null     float64\n",
            " 30  Disease Severity Severe                   14 non-null     float64\n",
            " 31  Disease Severity Critical                 14 non-null     float64\n",
            " 32  White Blood Cell Count (10^9/L) - Median  18 non-null     float64\n",
            " 33  White Blood Cell Count (10^9/L) - LQ      10 non-null     float64\n",
            " 34  White Blood Cell Count (10^9/L) - UQ      10 non-null     float64\n",
            " 35  Lymphocyte Count (10^9/L) - Median        18 non-null     float64\n",
            " 36  Lymphocyte Count (10^9/L) - LQ            10 non-null     float64\n",
            " 37  Lymphocyte Count (10^9/L) - UQ            10 non-null     float64\n",
            " 38  Platelet Count (10^9/L) - Median          14 non-null     float64\n",
            " 39  Platelet Count (10^9/L) - LQ              9 non-null      float64\n",
            " 40  Platelet Count (10^9/L) - UQ              9 non-null      float64\n",
            " 41  Hemoglobin (g/L) - Median                 16 non-null     float64\n",
            " 42  Hemoglobin (g/L) - LQ                     9 non-null      float64\n",
            " 43  Hemoglobin (g/L) - UQ                     9 non-null      float64\n",
            " 44  Albumin (g/L)                             0 non-null      float64\n",
            " 45  Alanine Aminotransferase (U/L)            17 non-null     float64\n",
            " 46  Aspartate Aminotransferase (U/L)          14 non-null     float64\n",
            " 47  Antibiotic                                9 non-null      float64\n",
            " 48  Antiviral (Any)                           12 non-null     float64\n",
            " 49  Heart failure                             6 non-null      float64\n",
            " 50  Acute kidney injury (AKI)                 9 non-null      float64\n",
            " 51  Secondary infection/ Bacterial infection  7 non-null      float64\n",
            " 52  ICU length of stay, days                  4 non-null      float64\n",
            " 53  Hospital length of stay, days             10 non-null     float64\n",
            "dtypes: float64(51), int64(1), object(2)\n",
            "memory usage: 22.5+ KB\n"
          ],
          "name": "stdout"
        }
      ]
    },
    {
      "cell_type": "markdown",
      "metadata": {
        "id": "wjOSFDNMsncb"
      },
      "source": [
        "\n",
        "* \"Severity\", \"Ventilation\" column in train data & test data is of \"Object\" Datatype. These column need to be label encoded.\n",
        "\n",
        "* \"ICU length of stay, days\", \"Hospital length of stay, days\",\"Mortality\" - These column in train dataset is of \"object\" datatype. but when looking at first 5 rows, it has numerical values. So we need to investigate further."
      ]
    },
    {
      "cell_type": "code",
      "metadata": {
        "id": "Xeb1FsVAM1Lm"
      },
      "source": [
        "null_df = pd.DataFrame(train.isnull().sum(),columns=['null_values'])\n",
        "null_df['percent_null_values'] = null_df['null_values']/475\n",
        "#null_df"
      ],
      "execution_count": 128,
      "outputs": []
    },
    {
      "cell_type": "code",
      "metadata": {
        "id": "ht1IAD4hOpbJ"
      },
      "source": [
        "train['Severity'] = train['Severity'].map({'All':1, 'Severe/Critical Only':2, 'Mild only':3, 'Both':4, 'Mild':3,'Severe':2,'0':0,'Asymptomatic only':7, 'Severe/critical only':2})\n",
        "test['Severity'] = test['Severity'].map({'All':1, 'Severe/Critical Only':2, 'Mild only':3, 'Both':4, 'Mild':3,'Severe':2,'0':0,'Asymptomatic only':7, 'Severe/critical only':2,np.nan:0})"
      ],
      "execution_count": 129,
      "outputs": []
    },
    {
      "cell_type": "code",
      "metadata": {
        "id": "4ZETNJGIQoDR"
      },
      "source": [
        "train['Ventilation'] = train['Ventilation'].map({'Both':1,'Ventilation only':2, 'Non-ventilation only':3, 'ΝΑ':0, 'Yes':1,'No':2,np.nan:0})\n",
        "test['Ventilation'] = test['Ventilation'].map({'Both':1,'Ventilation only':2, 'Non-ventilation only':3, 'ΝΑ':0, 'Yes':1,'No':2,np.nan:0})"
      ],
      "execution_count": 130,
      "outputs": []
    },
    {
      "cell_type": "code",
      "metadata": {
        "id": "bQsg2LBNdCuq"
      },
      "source": [
        "train = train[train['ICU length of stay, days']!='na']\n",
        "train = train[train['Hospital length of stay, days']!='na']\n",
        "train = train[(train['Mortality']!='na')]\n",
        "train = train[(train['Mortality']!='0%%')]"
      ],
      "execution_count": 131,
      "outputs": []
    },
    {
      "cell_type": "code",
      "metadata": {
        "id": "qH6klC8Glitk"
      },
      "source": [
        "train.fillna(0,inplace=True)\n",
        "test.fillna(0,inplace=True)"
      ],
      "execution_count": 132,
      "outputs": []
    },
    {
      "cell_type": "code",
      "metadata": {
        "id": "WNm20D1njUBi"
      },
      "source": [
        "train.dropna(inplace=True)"
      ],
      "execution_count": 133,
      "outputs": []
    },
    {
      "cell_type": "code",
      "metadata": {
        "colab": {
          "base_uri": "https://localhost:8080/"
        },
        "id": "QFAO9JuBkdzs",
        "outputId": "b590215e-7cee-405d-b769-862f57f6bac0"
      },
      "source": [
        "train.shape"
      ],
      "execution_count": 134,
      "outputs": [
        {
          "output_type": "execute_result",
          "data": {
            "text/plain": [
              "(469, 55)"
            ]
          },
          "metadata": {
            "tags": []
          },
          "execution_count": 134
        }
      ]
    },
    {
      "cell_type": "code",
      "metadata": {
        "id": "YW5wzfkml_NA"
      },
      "source": [
        "from sklearn.model_selection import train_test_split,GridSearchCV\n",
        "from sklearn.linear_model import LinearRegression, Ridge, Lasso\n",
        "from sklearn.tree import DecisionTreeRegressor\n",
        "import xgboost as xgb\n",
        "from sklearn.metrics import mean_squared_error"
      ],
      "execution_count": 135,
      "outputs": []
    },
    {
      "cell_type": "code",
      "metadata": {
        "id": "amPmL_E2oelr"
      },
      "source": [
        "#train[['Mortality']] = train[['Mortality']]*100"
      ],
      "execution_count": 136,
      "outputs": []
    },
    {
      "cell_type": "code",
      "metadata": {
        "colab": {
          "base_uri": "https://localhost:8080/"
        },
        "id": "YBrO47Udm9pQ",
        "outputId": "9905e218-6cb0-44b9-d5e4-7378d0710878"
      },
      "source": [
        "\"\"\"X = train.drop(['ID','Mortality','White Blood Cell Count (10^9/L) - LQ','White Blood Cell Count (10^9/L) - UQ','Lymphocyte Count (10^9/L) - LQ','Lymphocyte Count (10^9/L) - UQ','Platelet Count (10^9/L) - LQ','Platelet Count (10^9/L) - UQ',\n",
        "                'Hemoglobin (g/L) - LQ','Hemoglobin (g/L) - UQ','Aspartate Aminotransferase (U/L)',\n",
        "                'Albumin (g/L)','Alanine Aminotransferase (U/L)'],axis=1)\"\"\"\n",
        "\n",
        "X = train.drop(['ID','Mortality'],axis=1)\n",
        "\n",
        "\n",
        "#X = train[['Any Comorbidity','Heart failure','Cough']]\n",
        "y = train[['Mortality']]\n",
        "X_train,X_test,y_train,y_test = train_test_split(X,y,test_size=0.2,)\n",
        "\n",
        "param_grid={'n_estimators':[100,300,500],'max_depth':[3,5,7]}\n",
        "\n",
        "reg = xgb.XGBRegressor() # 450\n",
        "#reg = LinearRegression() #663\n",
        "#reg = Lasso() # 620\n",
        "#reg = Ridge() # 771\n",
        "#reg =DecisionTreeRegressor()#861\n",
        "\n",
        "model = GridSearchCV(reg,param_grid=param_grid,scoring='neg_root_mean_squared_error',n_jobs=-1,cv=8,return_train_score=True)\n",
        "\n",
        "model.fit(X_train,y_train)\n",
        "y_pred = model.predict(X_test)\n",
        "test['Mortality']=model.predict(test.drop(['ID'],axis=1))\n",
        "\"\"\"test['Mortality']=reg.predict(test.drop(['ID','White Blood Cell Count (10^9/L) - LQ','White Blood Cell Count (10^9/L) - UQ','Lymphocyte Count (10^9/L) - LQ','Lymphocyte Count (10^9/L) - UQ','Platelet Count (10^9/L) - LQ','Platelet Count (10^9/L) - UQ',\n",
        "                'Hemoglobin (g/L) - LQ','Hemoglobin (g/L) - UQ','Aspartate Aminotransferase (U/L)',\n",
        "                'Albumin (g/L)','Alanine Aminotransferase (U/L)'],axis=1))\"\"\"\n",
        "print(mean_squared_error(y_test,y_pred))"
      ],
      "execution_count": 137,
      "outputs": [
        {
          "output_type": "stream",
          "text": [
            "[09:29:52] WARNING: /workspace/src/objective/regression_obj.cu:152: reg:linear is now deprecated in favor of reg:squarederror.\n",
            "0.0433277737371014\n"
          ],
          "name": "stdout"
        }
      ]
    },
    {
      "cell_type": "code",
      "metadata": {
        "id": "7jaP5Hdu7hMs",
        "colab": {
          "base_uri": "https://localhost:8080/",
          "height": 35
        },
        "outputId": "cf2ed498-6463-4a9e-aa6d-a0733d784a18"
      },
      "source": [
        "\"\"\"import sklearn.metrics\n",
        "\n",
        "sklearn.metrics.SCORERS.keys()\"\"\""
      ],
      "execution_count": 138,
      "outputs": [
        {
          "output_type": "execute_result",
          "data": {
            "application/vnd.google.colaboratory.intrinsic+json": {
              "type": "string"
            },
            "text/plain": [
              "'import sklearn.metrics\\n\\nsklearn.metrics.SCORERS.keys()'"
            ]
          },
          "metadata": {
            "tags": []
          },
          "execution_count": 138
        }
      ]
    },
    {
      "cell_type": "code",
      "metadata": {
        "id": "qfKh0XOG2nM7"
      },
      "source": [
        "test[['ID','Mortality']].to_csv('mortality.csv',index=False)"
      ],
      "execution_count": 139,
      "outputs": []
    },
    {
      "cell_type": "code",
      "metadata": {
        "id": "znLSzzogg9Cr",
        "colab": {
          "base_uri": "https://localhost:8080/",
          "height": 35
        },
        "outputId": "ba410b88-61da-468e-afe1-172ff505f8d7"
      },
      "source": [
        "\"\"\"plt.figure(figsize=(20,20))\n",
        "sns.heatmap(X.corr())\n",
        "plt.show()\"\"\""
      ],
      "execution_count": 140,
      "outputs": [
        {
          "output_type": "execute_result",
          "data": {
            "application/vnd.google.colaboratory.intrinsic+json": {
              "type": "string"
            },
            "text/plain": [
              "'plt.figure(figsize=(20,20))\\nsns.heatmap(X.corr())\\nplt.show()'"
            ]
          },
          "metadata": {
            "tags": []
          },
          "execution_count": 140
        }
      ]
    },
    {
      "cell_type": "code",
      "metadata": {
        "id": "szwJzfqPxHbN",
        "colab": {
          "base_uri": "https://localhost:8080/",
          "height": 35
        },
        "outputId": "63a75133-b089-44df-f80a-6320e153142d"
      },
      "source": [
        "\"\"\"reg.feature_importances_\"\"\""
      ],
      "execution_count": 141,
      "outputs": [
        {
          "output_type": "execute_result",
          "data": {
            "application/vnd.google.colaboratory.intrinsic+json": {
              "type": "string"
            },
            "text/plain": [
              "'reg.feature_importances_'"
            ]
          },
          "metadata": {
            "tags": []
          },
          "execution_count": 141
        }
      ]
    },
    {
      "cell_type": "code",
      "metadata": {
        "id": "nCBOCos7xMk0",
        "colab": {
          "base_uri": "https://localhost:8080/",
          "height": 35
        },
        "outputId": "ed234112-6431-4534-9005-61b1129b34dc"
      },
      "source": [
        "\"\"\"plt.figure(figsize=(15,15))\n",
        "plt.barh(X.columns, reg.feature_importances_)\"\"\""
      ],
      "execution_count": 142,
      "outputs": [
        {
          "output_type": "execute_result",
          "data": {
            "application/vnd.google.colaboratory.intrinsic+json": {
              "type": "string"
            },
            "text/plain": [
              "'plt.figure(figsize=(15,15))\\nplt.barh(X.columns, reg.feature_importances_)'"
            ]
          },
          "metadata": {
            "tags": []
          },
          "execution_count": 142
        }
      ]
    }
  ]
}
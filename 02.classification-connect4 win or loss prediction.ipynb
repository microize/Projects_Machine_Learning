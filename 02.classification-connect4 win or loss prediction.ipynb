{
  "nbformat": 4,
  "nbformat_minor": 0,
  "metadata": {
    "colab": {
      "name": "Data Sprint #27: Connect - 4-approach-1.ipynb",
      "provenance": [],
      "collapsed_sections": []
    },
    "kernelspec": {
      "display_name": "Python 3",
      "name": "python3"
    }
  },
  "cells": [
    {
      "cell_type": "markdown",
      "metadata": {
        "id": "zBo0jQtgNjcE"
      },
      "source": [
        "# Introduction\n",
        "Connect Four (or Connect - 4) is a two-player connection board game, in which the players choose a color and then take turns dropping colored discs into a seven-column, six-row vertically suspended grid. The pieces fall straight down, occupying the lowest available space within the column. The objective of the game is to be the first to form a horizontal, vertical, or diagonal line of four of one's own discs. Connect Four is a solved game. The first player can always win by playing the right moves. If the board fills up before either player achieves four in a row, then the game is a draw.\n",
        "\n",
        "# Objective\n",
        "To build a machine learning model to find whether first player has won the game or not with given connect-4 positions.\n",
        "\n",
        "# ML Problem:\n",
        "Supervised Learning - Classification\n",
        "\n",
        "# Metrics:\n",
        "F1 -score\n",
        "\n",
        "# Approach \n",
        "1. Building a CNN Model.(Board looks like 6*7 Image Pixel.So my intial though was building a CNN Model helps to preserve spatial information)\n",
        "\n"
      ]
    },
    {
      "cell_type": "code",
      "metadata": {
        "id": "SPRULDJf1rvB"
      },
      "source": [
        "# importing library\n",
        "import numpy as np\n",
        "import pandas as pd\n",
        "import warnings\n",
        "warnings.filterwarnings('ignore')\n",
        "\n",
        "import keras\n",
        "from keras.models import Sequential\n",
        "from keras.layers import Dense, Conv2D , MaxPool2D , Flatten , Dropout\n",
        "from keras.optimizers import Adam\n",
        "from keras.utils import np_utils"
      ],
      "execution_count": null,
      "outputs": []
    },
    {
      "cell_type": "code",
      "metadata": {
        "id": "Kc8WgwJnbtcT"
      },
      "source": [
        "seed=5"
      ],
      "execution_count": null,
      "outputs": []
    },
    {
      "cell_type": "code",
      "metadata": {
        "id": "3PbPnsms2QN_"
      },
      "source": [
        "# import data\n",
        "train_data = pd.read_csv(\"https://raw.githubusercontent.com/dphi-official/Datasets/master/connect-4/train_set_label.csv\")\n",
        "test_data = pd.read_csv('https://raw.githubusercontent.com/dphi-official/Datasets/master/connect-4/test_set_label.csv')"
      ],
      "execution_count": null,
      "outputs": []
    },
    {
      "cell_type": "code",
      "metadata": {
        "colab": {
          "base_uri": "https://localhost:8080/",
          "height": 216
        },
        "id": "aBMsFSkb2zSX",
        "outputId": "e2aac422-2865-454e-f76c-24b175687b57"
      },
      "source": [
        "# Train data - first 5 rows\n",
        "train_data.head()"
      ],
      "execution_count": null,
      "outputs": [
        {
          "output_type": "execute_result",
          "data": {
            "text/html": [
              "<div>\n",
              "<style scoped>\n",
              "    .dataframe tbody tr th:only-of-type {\n",
              "        vertical-align: middle;\n",
              "    }\n",
              "\n",
              "    .dataframe tbody tr th {\n",
              "        vertical-align: top;\n",
              "    }\n",
              "\n",
              "    .dataframe thead th {\n",
              "        text-align: right;\n",
              "    }\n",
              "</style>\n",
              "<table border=\"1\" class=\"dataframe\">\n",
              "  <thead>\n",
              "    <tr style=\"text-align: right;\">\n",
              "      <th></th>\n",
              "      <th>a1</th>\n",
              "      <th>a2</th>\n",
              "      <th>a3</th>\n",
              "      <th>a4</th>\n",
              "      <th>a5</th>\n",
              "      <th>a6</th>\n",
              "      <th>b1</th>\n",
              "      <th>b2</th>\n",
              "      <th>b3</th>\n",
              "      <th>b4</th>\n",
              "      <th>b5</th>\n",
              "      <th>b6</th>\n",
              "      <th>c1</th>\n",
              "      <th>c2</th>\n",
              "      <th>c3</th>\n",
              "      <th>c4</th>\n",
              "      <th>c5</th>\n",
              "      <th>c6</th>\n",
              "      <th>d1</th>\n",
              "      <th>d2</th>\n",
              "      <th>d3</th>\n",
              "      <th>d4</th>\n",
              "      <th>d5</th>\n",
              "      <th>d6</th>\n",
              "      <th>e1</th>\n",
              "      <th>e2</th>\n",
              "      <th>e3</th>\n",
              "      <th>e4</th>\n",
              "      <th>e5</th>\n",
              "      <th>e6</th>\n",
              "      <th>f1</th>\n",
              "      <th>f2</th>\n",
              "      <th>f3</th>\n",
              "      <th>f4</th>\n",
              "      <th>f5</th>\n",
              "      <th>f6</th>\n",
              "      <th>g1</th>\n",
              "      <th>g2</th>\n",
              "      <th>g3</th>\n",
              "      <th>g4</th>\n",
              "      <th>g5</th>\n",
              "      <th>g6</th>\n",
              "      <th>class</th>\n",
              "    </tr>\n",
              "  </thead>\n",
              "  <tbody>\n",
              "    <tr>\n",
              "      <th>0</th>\n",
              "      <td>b</td>\n",
              "      <td>b</td>\n",
              "      <td>b</td>\n",
              "      <td>b</td>\n",
              "      <td>b</td>\n",
              "      <td>b</td>\n",
              "      <td>o</td>\n",
              "      <td>o</td>\n",
              "      <td>x</td>\n",
              "      <td>b</td>\n",
              "      <td>b</td>\n",
              "      <td>b</td>\n",
              "      <td>x</td>\n",
              "      <td>x</td>\n",
              "      <td>o</td>\n",
              "      <td>x</td>\n",
              "      <td>b</td>\n",
              "      <td>b</td>\n",
              "      <td>b</td>\n",
              "      <td>b</td>\n",
              "      <td>b</td>\n",
              "      <td>b</td>\n",
              "      <td>b</td>\n",
              "      <td>b</td>\n",
              "      <td>o</td>\n",
              "      <td>b</td>\n",
              "      <td>b</td>\n",
              "      <td>b</td>\n",
              "      <td>b</td>\n",
              "      <td>b</td>\n",
              "      <td>b</td>\n",
              "      <td>b</td>\n",
              "      <td>b</td>\n",
              "      <td>b</td>\n",
              "      <td>b</td>\n",
              "      <td>b</td>\n",
              "      <td>b</td>\n",
              "      <td>b</td>\n",
              "      <td>b</td>\n",
              "      <td>b</td>\n",
              "      <td>b</td>\n",
              "      <td>b</td>\n",
              "      <td>loss</td>\n",
              "    </tr>\n",
              "    <tr>\n",
              "      <th>1</th>\n",
              "      <td>b</td>\n",
              "      <td>b</td>\n",
              "      <td>b</td>\n",
              "      <td>b</td>\n",
              "      <td>b</td>\n",
              "      <td>b</td>\n",
              "      <td>o</td>\n",
              "      <td>b</td>\n",
              "      <td>b</td>\n",
              "      <td>b</td>\n",
              "      <td>b</td>\n",
              "      <td>b</td>\n",
              "      <td>x</td>\n",
              "      <td>o</td>\n",
              "      <td>o</td>\n",
              "      <td>b</td>\n",
              "      <td>b</td>\n",
              "      <td>b</td>\n",
              "      <td>x</td>\n",
              "      <td>b</td>\n",
              "      <td>b</td>\n",
              "      <td>b</td>\n",
              "      <td>b</td>\n",
              "      <td>b</td>\n",
              "      <td>x</td>\n",
              "      <td>x</td>\n",
              "      <td>b</td>\n",
              "      <td>b</td>\n",
              "      <td>b</td>\n",
              "      <td>b</td>\n",
              "      <td>o</td>\n",
              "      <td>b</td>\n",
              "      <td>b</td>\n",
              "      <td>b</td>\n",
              "      <td>b</td>\n",
              "      <td>b</td>\n",
              "      <td>b</td>\n",
              "      <td>b</td>\n",
              "      <td>b</td>\n",
              "      <td>b</td>\n",
              "      <td>b</td>\n",
              "      <td>b</td>\n",
              "      <td>loss</td>\n",
              "    </tr>\n",
              "    <tr>\n",
              "      <th>2</th>\n",
              "      <td>x</td>\n",
              "      <td>x</td>\n",
              "      <td>o</td>\n",
              "      <td>b</td>\n",
              "      <td>b</td>\n",
              "      <td>b</td>\n",
              "      <td>o</td>\n",
              "      <td>b</td>\n",
              "      <td>b</td>\n",
              "      <td>b</td>\n",
              "      <td>b</td>\n",
              "      <td>b</td>\n",
              "      <td>b</td>\n",
              "      <td>b</td>\n",
              "      <td>b</td>\n",
              "      <td>b</td>\n",
              "      <td>b</td>\n",
              "      <td>b</td>\n",
              "      <td>o</td>\n",
              "      <td>x</td>\n",
              "      <td>x</td>\n",
              "      <td>o</td>\n",
              "      <td>b</td>\n",
              "      <td>b</td>\n",
              "      <td>b</td>\n",
              "      <td>b</td>\n",
              "      <td>b</td>\n",
              "      <td>b</td>\n",
              "      <td>b</td>\n",
              "      <td>b</td>\n",
              "      <td>b</td>\n",
              "      <td>b</td>\n",
              "      <td>b</td>\n",
              "      <td>b</td>\n",
              "      <td>b</td>\n",
              "      <td>b</td>\n",
              "      <td>b</td>\n",
              "      <td>b</td>\n",
              "      <td>b</td>\n",
              "      <td>b</td>\n",
              "      <td>b</td>\n",
              "      <td>b</td>\n",
              "      <td>win</td>\n",
              "    </tr>\n",
              "    <tr>\n",
              "      <th>3</th>\n",
              "      <td>x</td>\n",
              "      <td>x</td>\n",
              "      <td>b</td>\n",
              "      <td>b</td>\n",
              "      <td>b</td>\n",
              "      <td>b</td>\n",
              "      <td>o</td>\n",
              "      <td>b</td>\n",
              "      <td>b</td>\n",
              "      <td>b</td>\n",
              "      <td>b</td>\n",
              "      <td>b</td>\n",
              "      <td>b</td>\n",
              "      <td>b</td>\n",
              "      <td>b</td>\n",
              "      <td>b</td>\n",
              "      <td>b</td>\n",
              "      <td>b</td>\n",
              "      <td>b</td>\n",
              "      <td>b</td>\n",
              "      <td>b</td>\n",
              "      <td>b</td>\n",
              "      <td>b</td>\n",
              "      <td>b</td>\n",
              "      <td>b</td>\n",
              "      <td>b</td>\n",
              "      <td>b</td>\n",
              "      <td>b</td>\n",
              "      <td>b</td>\n",
              "      <td>b</td>\n",
              "      <td>o</td>\n",
              "      <td>b</td>\n",
              "      <td>b</td>\n",
              "      <td>b</td>\n",
              "      <td>b</td>\n",
              "      <td>b</td>\n",
              "      <td>o</td>\n",
              "      <td>x</td>\n",
              "      <td>o</td>\n",
              "      <td>x</td>\n",
              "      <td>b</td>\n",
              "      <td>b</td>\n",
              "      <td>win</td>\n",
              "    </tr>\n",
              "    <tr>\n",
              "      <th>4</th>\n",
              "      <td>x</td>\n",
              "      <td>x</td>\n",
              "      <td>o</td>\n",
              "      <td>o</td>\n",
              "      <td>b</td>\n",
              "      <td>b</td>\n",
              "      <td>o</td>\n",
              "      <td>b</td>\n",
              "      <td>b</td>\n",
              "      <td>b</td>\n",
              "      <td>b</td>\n",
              "      <td>b</td>\n",
              "      <td>b</td>\n",
              "      <td>b</td>\n",
              "      <td>b</td>\n",
              "      <td>b</td>\n",
              "      <td>b</td>\n",
              "      <td>b</td>\n",
              "      <td>b</td>\n",
              "      <td>b</td>\n",
              "      <td>b</td>\n",
              "      <td>b</td>\n",
              "      <td>b</td>\n",
              "      <td>b</td>\n",
              "      <td>b</td>\n",
              "      <td>b</td>\n",
              "      <td>b</td>\n",
              "      <td>b</td>\n",
              "      <td>b</td>\n",
              "      <td>b</td>\n",
              "      <td>o</td>\n",
              "      <td>x</td>\n",
              "      <td>x</td>\n",
              "      <td>b</td>\n",
              "      <td>b</td>\n",
              "      <td>b</td>\n",
              "      <td>b</td>\n",
              "      <td>b</td>\n",
              "      <td>b</td>\n",
              "      <td>b</td>\n",
              "      <td>b</td>\n",
              "      <td>b</td>\n",
              "      <td>win</td>\n",
              "    </tr>\n",
              "  </tbody>\n",
              "</table>\n",
              "</div>"
            ],
            "text/plain": [
              "  a1 a2 a3 a4 a5 a6 b1 b2 b3 b4 b5 b6  ... f2 f3 f4 f5 f6 g1 g2 g3 g4 g5 g6 class\n",
              "0  b  b  b  b  b  b  o  o  x  b  b  b  ...  b  b  b  b  b  b  b  b  b  b  b  loss\n",
              "1  b  b  b  b  b  b  o  b  b  b  b  b  ...  b  b  b  b  b  b  b  b  b  b  b  loss\n",
              "2  x  x  o  b  b  b  o  b  b  b  b  b  ...  b  b  b  b  b  b  b  b  b  b  b   win\n",
              "3  x  x  b  b  b  b  o  b  b  b  b  b  ...  b  b  b  b  b  o  x  o  x  b  b   win\n",
              "4  x  x  o  o  b  b  o  b  b  b  b  b  ...  x  x  b  b  b  b  b  b  b  b  b   win\n",
              "\n",
              "[5 rows x 43 columns]"
            ]
          },
          "metadata": {
            "tags": []
          },
          "execution_count": 50
        }
      ]
    },
    {
      "cell_type": "code",
      "metadata": {
        "colab": {
          "base_uri": "https://localhost:8080/"
        },
        "id": "510HoBWa3hhd",
        "outputId": "e8b9c11e-54f3-4e1c-efa7-2e8563726500"
      },
      "source": [
        "print(\"Train Data :\",train_data.shape[0],\"rows\",train_data.shape[1],\"Columns\")\n",
        "print(\"Train Data :\",test_data.shape[0],\"rows\",test_data.shape[1],\"Columns\")"
      ],
      "execution_count": null,
      "outputs": [
        {
          "output_type": "stream",
          "text": [
            "Train Data : 50667 rows 43 Columns\n",
            "Train Data : 16890 rows 42 Columns\n"
          ],
          "name": "stdout"
        }
      ]
    },
    {
      "cell_type": "code",
      "metadata": {
        "colab": {
          "base_uri": "https://localhost:8080/"
        },
        "id": "mtyPdqT83F32",
        "outputId": "d4166910-cfa9-49cc-a93c-1b91cfe82de6"
      },
      "source": [
        "train_data.info()"
      ],
      "execution_count": null,
      "outputs": [
        {
          "output_type": "stream",
          "text": [
            "<class 'pandas.core.frame.DataFrame'>\n",
            "RangeIndex: 50667 entries, 0 to 50666\n",
            "Data columns (total 43 columns):\n",
            " #   Column  Non-Null Count  Dtype \n",
            "---  ------  --------------  ----- \n",
            " 0   a1      50667 non-null  object\n",
            " 1   a2      50667 non-null  object\n",
            " 2   a3      50667 non-null  object\n",
            " 3   a4      50667 non-null  object\n",
            " 4   a5      50667 non-null  object\n",
            " 5   a6      50667 non-null  object\n",
            " 6   b1      50667 non-null  object\n",
            " 7   b2      50667 non-null  object\n",
            " 8   b3      50667 non-null  object\n",
            " 9   b4      50667 non-null  object\n",
            " 10  b5      50667 non-null  object\n",
            " 11  b6      50667 non-null  object\n",
            " 12  c1      50667 non-null  object\n",
            " 13  c2      50667 non-null  object\n",
            " 14  c3      50667 non-null  object\n",
            " 15  c4      50667 non-null  object\n",
            " 16  c5      50667 non-null  object\n",
            " 17  c6      50667 non-null  object\n",
            " 18  d1      50667 non-null  object\n",
            " 19  d2      50667 non-null  object\n",
            " 20  d3      50667 non-null  object\n",
            " 21  d4      50667 non-null  object\n",
            " 22  d5      50667 non-null  object\n",
            " 23  d6      50667 non-null  object\n",
            " 24  e1      50667 non-null  object\n",
            " 25  e2      50667 non-null  object\n",
            " 26  e3      50667 non-null  object\n",
            " 27  e4      50667 non-null  object\n",
            " 28  e5      50667 non-null  object\n",
            " 29  e6      50667 non-null  object\n",
            " 30  f1      50667 non-null  object\n",
            " 31  f2      50667 non-null  object\n",
            " 32  f3      50667 non-null  object\n",
            " 33  f4      50667 non-null  object\n",
            " 34  f5      50667 non-null  object\n",
            " 35  f6      50667 non-null  object\n",
            " 36  g1      50667 non-null  object\n",
            " 37  g2      50667 non-null  object\n",
            " 38  g3      50667 non-null  object\n",
            " 39  g4      50667 non-null  object\n",
            " 40  g5      50667 non-null  object\n",
            " 41  g6      50667 non-null  object\n",
            " 42  class   50667 non-null  object\n",
            "dtypes: object(43)\n",
            "memory usage: 16.6+ MB\n"
          ],
          "name": "stdout"
        }
      ]
    },
    {
      "cell_type": "code",
      "metadata": {
        "colab": {
          "base_uri": "https://localhost:8080/"
        },
        "id": "XqKicwy4kqNY",
        "outputId": "a90a312c-4a54-4597-fcb5-9892da28e890"
      },
      "source": [
        "test_data.info()"
      ],
      "execution_count": null,
      "outputs": [
        {
          "output_type": "stream",
          "text": [
            "<class 'pandas.core.frame.DataFrame'>\n",
            "RangeIndex: 16890 entries, 0 to 16889\n",
            "Data columns (total 42 columns):\n",
            " #   Column  Non-Null Count  Dtype \n",
            "---  ------  --------------  ----- \n",
            " 0   a1      16890 non-null  object\n",
            " 1   a2      16890 non-null  object\n",
            " 2   a3      16890 non-null  object\n",
            " 3   a4      16890 non-null  object\n",
            " 4   a5      16890 non-null  object\n",
            " 5   a6      16890 non-null  object\n",
            " 6   b1      16890 non-null  object\n",
            " 7   b2      16890 non-null  object\n",
            " 8   b3      16890 non-null  object\n",
            " 9   b4      16890 non-null  object\n",
            " 10  b5      16890 non-null  object\n",
            " 11  b6      16890 non-null  object\n",
            " 12  c1      16890 non-null  object\n",
            " 13  c2      16890 non-null  object\n",
            " 14  c3      16890 non-null  object\n",
            " 15  c4      16890 non-null  object\n",
            " 16  c5      16890 non-null  object\n",
            " 17  c6      16890 non-null  object\n",
            " 18  d1      16890 non-null  object\n",
            " 19  d2      16890 non-null  object\n",
            " 20  d3      16890 non-null  object\n",
            " 21  d4      16890 non-null  object\n",
            " 22  d5      16890 non-null  object\n",
            " 23  d6      16890 non-null  object\n",
            " 24  e1      16890 non-null  object\n",
            " 25  e2      16890 non-null  object\n",
            " 26  e3      16890 non-null  object\n",
            " 27  e4      16890 non-null  object\n",
            " 28  e5      16890 non-null  object\n",
            " 29  e6      16890 non-null  object\n",
            " 30  f1      16890 non-null  object\n",
            " 31  f2      16890 non-null  object\n",
            " 32  f3      16890 non-null  object\n",
            " 33  f4      16890 non-null  object\n",
            " 34  f5      16890 non-null  object\n",
            " 35  f6      16890 non-null  object\n",
            " 36  g1      16890 non-null  object\n",
            " 37  g2      16890 non-null  object\n",
            " 38  g3      16890 non-null  object\n",
            " 39  g4      16890 non-null  object\n",
            " 40  g5      16890 non-null  object\n",
            " 41  g6      16890 non-null  object\n",
            "dtypes: object(42)\n",
            "memory usage: 5.4+ MB\n"
          ],
          "name": "stdout"
        }
      ]
    },
    {
      "cell_type": "code",
      "metadata": {
        "colab": {
          "base_uri": "https://localhost:8080/"
        },
        "id": "XauM6SF-3R8n",
        "outputId": "ad67964d-1269-4ee2-9131-f55679e99d54"
      },
      "source": [
        "train_data.duplicated().sum()"
      ],
      "execution_count": null,
      "outputs": [
        {
          "output_type": "execute_result",
          "data": {
            "text/plain": [
              "0"
            ]
          },
          "metadata": {
            "tags": []
          },
          "execution_count": 54
        }
      ]
    },
    {
      "cell_type": "code",
      "metadata": {
        "colab": {
          "base_uri": "https://localhost:8080/"
        },
        "id": "gPtV6o6wk468",
        "outputId": "d17ddf31-91f6-4c73-aca5-f77fffb241b3"
      },
      "source": [
        "test_data.duplicated().sum()"
      ],
      "execution_count": null,
      "outputs": [
        {
          "output_type": "execute_result",
          "data": {
            "text/plain": [
              "0"
            ]
          },
          "metadata": {
            "tags": []
          },
          "execution_count": 55
        }
      ]
    },
    {
      "cell_type": "code",
      "metadata": {
        "colab": {
          "base_uri": "https://localhost:8080/"
        },
        "id": "9zzB6NMX8oLJ",
        "outputId": "9b63b365-b431-4693-e33a-d5888ce1f3a9"
      },
      "source": [
        "train_data['class'].value_counts(normalize=True)"
      ],
      "execution_count": null,
      "outputs": [
        {
          "output_type": "execute_result",
          "data": {
            "text/plain": [
              "win     0.658298\n",
              "loss    0.246235\n",
              "draw    0.095466\n",
              "Name: class, dtype: float64"
            ]
          },
          "metadata": {
            "tags": []
          },
          "execution_count": 56
        }
      ]
    },
    {
      "cell_type": "markdown",
      "metadata": {
        "id": "gGeLchBdOyVj"
      },
      "source": [
        "* No Null Values.\n",
        "* All Columns are of 'Object' Datatype.\n",
        "* No Duplicate Values.\n",
        "* Dataset is Unbalanced."
      ]
    },
    {
      "cell_type": "code",
      "metadata": {
        "id": "G1O8Kvyi88Xu"
      },
      "source": [
        "# Label Encoding\n",
        "train_data['class'] = train_data['class'].map({\"win\":0,\"loss\":1,\"draw\":2})\n",
        "\n",
        "# Seperating Target variable and Independent Variable\n",
        "X = train_data.drop(['class'],axis=1)\n",
        "y = train_data[['class']]"
      ],
      "execution_count": null,
      "outputs": []
    },
    {
      "cell_type": "code",
      "metadata": {
        "id": "ljyQOu6YFQNF"
      },
      "source": [
        "# Label encoding\n",
        "for b in X.columns:\n",
        "  X[b] = X[b].map({'x':-1,'b':0,'o':1})\n",
        "  test_data[b] = test_data[b].map({'x':-1,'b':0,'o':1})"
      ],
      "execution_count": null,
      "outputs": []
    },
    {
      "cell_type": "code",
      "metadata": {
        "id": "PBBHYTlGGeGE"
      },
      "source": [
        "# Splitting given data to training data and Validation data\n",
        "from sklearn.model_selection import train_test_split\n",
        "\n",
        "X_train, X_test, y_train, y_test = train_test_split(X,y,test_size=0.1,stratify=y,random_state = seed)"
      ],
      "execution_count": null,
      "outputs": []
    },
    {
      "cell_type": "code",
      "metadata": {
        "colab": {
          "base_uri": "https://localhost:8080/",
          "height": 190
        },
        "id": "9FCTZoCobfhC",
        "outputId": "d3ec473a-cd73-46e6-f8a6-e8401e145152"
      },
      "source": [
        "# Train Data & Validation Data a\n",
        "display(\"Train Data :\",X_train.shape[0],\"rows\",X_train.shape[1],\"Columns\")\n",
        "display(\"Validation Data :\",X_test.shape[0],\"rows\",X_test.shape[1],\"Columns\")"
      ],
      "execution_count": null,
      "outputs": [
        {
          "output_type": "display_data",
          "data": {
            "application/vnd.google.colaboratory.intrinsic+json": {
              "type": "string"
            },
            "text/plain": [
              "'Train Data :'"
            ]
          },
          "metadata": {
            "tags": []
          }
        },
        {
          "output_type": "display_data",
          "data": {
            "text/plain": [
              "45600"
            ]
          },
          "metadata": {
            "tags": []
          }
        },
        {
          "output_type": "display_data",
          "data": {
            "application/vnd.google.colaboratory.intrinsic+json": {
              "type": "string"
            },
            "text/plain": [
              "'rows'"
            ]
          },
          "metadata": {
            "tags": []
          }
        },
        {
          "output_type": "display_data",
          "data": {
            "text/plain": [
              "42"
            ]
          },
          "metadata": {
            "tags": []
          }
        },
        {
          "output_type": "display_data",
          "data": {
            "application/vnd.google.colaboratory.intrinsic+json": {
              "type": "string"
            },
            "text/plain": [
              "'Columns'"
            ]
          },
          "metadata": {
            "tags": []
          }
        },
        {
          "output_type": "display_data",
          "data": {
            "application/vnd.google.colaboratory.intrinsic+json": {
              "type": "string"
            },
            "text/plain": [
              "'Validation Data :'"
            ]
          },
          "metadata": {
            "tags": []
          }
        },
        {
          "output_type": "display_data",
          "data": {
            "text/plain": [
              "5067"
            ]
          },
          "metadata": {
            "tags": []
          }
        },
        {
          "output_type": "display_data",
          "data": {
            "application/vnd.google.colaboratory.intrinsic+json": {
              "type": "string"
            },
            "text/plain": [
              "'rows'"
            ]
          },
          "metadata": {
            "tags": []
          }
        },
        {
          "output_type": "display_data",
          "data": {
            "text/plain": [
              "42"
            ]
          },
          "metadata": {
            "tags": []
          }
        },
        {
          "output_type": "display_data",
          "data": {
            "application/vnd.google.colaboratory.intrinsic+json": {
              "type": "string"
            },
            "text/plain": [
              "'Columns'"
            ]
          },
          "metadata": {
            "tags": []
          }
        }
      ]
    },
    {
      "cell_type": "code",
      "metadata": {
        "id": "SZq906VSRhaq"
      },
      "source": [
        "# Converting to Numpy array\n",
        "X_train = X_train.to_numpy()\n",
        "X_test = X_test.to_numpy()"
      ],
      "execution_count": null,
      "outputs": []
    },
    {
      "cell_type": "code",
      "metadata": {
        "id": "BkaUUcBlS5Vb"
      },
      "source": [
        "# Reshaping the array to 4 dimension\n",
        "X_train = X_train.reshape(-1,7,6,1)\n",
        "X_test = X_test.reshape(-1,7,6,1)"
      ],
      "execution_count": null,
      "outputs": []
    },
    {
      "cell_type": "code",
      "metadata": {
        "colab": {
          "base_uri": "https://localhost:8080/"
        },
        "id": "QUE6Cm68pI7L",
        "outputId": "f4b0414d-4dfa-4279-bc3b-f03f90d0dc76"
      },
      "source": [
        "X_train[0]"
      ],
      "execution_count": null,
      "outputs": [
        {
          "output_type": "execute_result",
          "data": {
            "text/plain": [
              "array([[[ 1],\n",
              "        [ 0],\n",
              "        [ 0],\n",
              "        [ 0],\n",
              "        [ 0],\n",
              "        [ 0]],\n",
              "\n",
              "       [[ 0],\n",
              "        [ 0],\n",
              "        [ 0],\n",
              "        [ 0],\n",
              "        [ 0],\n",
              "        [ 0]],\n",
              "\n",
              "       [[-1],\n",
              "        [-1],\n",
              "        [ 1],\n",
              "        [-1],\n",
              "        [ 0],\n",
              "        [ 0]],\n",
              "\n",
              "       [[-1],\n",
              "        [ 1],\n",
              "        [ 1],\n",
              "        [ 0],\n",
              "        [ 0],\n",
              "        [ 0]],\n",
              "\n",
              "       [[ 0],\n",
              "        [ 0],\n",
              "        [ 0],\n",
              "        [ 0],\n",
              "        [ 0],\n",
              "        [ 0]],\n",
              "\n",
              "       [[ 0],\n",
              "        [ 0],\n",
              "        [ 0],\n",
              "        [ 0],\n",
              "        [ 0],\n",
              "        [ 0]],\n",
              "\n",
              "       [[ 0],\n",
              "        [ 0],\n",
              "        [ 0],\n",
              "        [ 0],\n",
              "        [ 0],\n",
              "        [ 0]]])"
            ]
          },
          "metadata": {
            "tags": []
          },
          "execution_count": 63
        }
      ]
    },
    {
      "cell_type": "code",
      "metadata": {
        "colab": {
          "base_uri": "https://localhost:8080/",
          "height": 35
        },
        "id": "k1a9fM6f39EN",
        "outputId": "2cda52d3-c43a-4a7f-e49f-0126f5ca0172"
      },
      "source": [
        "\"\"\"import cv2\n",
        "from google.colab.patches import cv2_imshow\n",
        "cv2_imshow(X_train[3])\"\"\""
      ],
      "execution_count": null,
      "outputs": [
        {
          "output_type": "execute_result",
          "data": {
            "application/vnd.google.colaboratory.intrinsic+json": {
              "type": "string"
            },
            "text/plain": [
              "'import cv2\\nfrom google.colab.patches import cv2_imshow\\ncv2_imshow(X_train[3])'"
            ]
          },
          "metadata": {
            "tags": []
          },
          "execution_count": 64
        }
      ]
    },
    {
      "cell_type": "code",
      "metadata": {
        "id": "-ePjC_nARUrQ"
      },
      "source": [
        "# One hot encoding on target variable\n",
        "y_train=np_utils.to_categorical(y_train)\n",
        "y_test=np_utils.to_categorical(y_test)"
      ],
      "execution_count": null,
      "outputs": []
    },
    {
      "cell_type": "code",
      "metadata": {
        "colab": {
          "base_uri": "https://localhost:8080/"
        },
        "id": "nww1OxlqT3GI",
        "outputId": "72b015df-9eb3-4ca7-8ae6-f057d8bacb53"
      },
      "source": [
        "y_train[0]"
      ],
      "execution_count": null,
      "outputs": [
        {
          "output_type": "execute_result",
          "data": {
            "text/plain": [
              "array([1., 0., 0.], dtype=float32)"
            ]
          },
          "metadata": {
            "tags": []
          },
          "execution_count": 66
        }
      ]
    },
    {
      "cell_type": "code",
      "metadata": {
        "colab": {
          "base_uri": "https://localhost:8080/"
        },
        "id": "0voZZH7xnjm_",
        "outputId": "59c32abb-8091-4e5e-e129-5e0e42c74f67"
      },
      "source": [
        "y_train.shape"
      ],
      "execution_count": null,
      "outputs": [
        {
          "output_type": "execute_result",
          "data": {
            "text/plain": [
              "(45600, 3)"
            ]
          },
          "metadata": {
            "tags": []
          },
          "execution_count": 67
        }
      ]
    },
    {
      "cell_type": "code",
      "metadata": {
        "colab": {
          "base_uri": "https://localhost:8080/"
        },
        "id": "C50cTjK1hTLs",
        "outputId": "79b8b096-10ba-4e48-966e-540f0fd47aa3"
      },
      "source": [
        "y_test.shape"
      ],
      "execution_count": null,
      "outputs": [
        {
          "output_type": "execute_result",
          "data": {
            "text/plain": [
              "(5067, 3)"
            ]
          },
          "metadata": {
            "tags": []
          },
          "execution_count": 68
        }
      ]
    },
    {
      "cell_type": "code",
      "metadata": {
        "id": "Wzetfj2iGbLv"
      },
      "source": [
        "# CNN Model\n",
        "model = Sequential()\n",
        "model.add(Conv2D(128,kernel_size=(7,6),activation='relu',input_shape=(7,6,1),padding='same'))\n",
        "#model.add(MaxPool2D((2,2)))\n",
        "#model.add(Dropout(0.3))\n",
        "model.add(Conv2D(128,kernel_size=(7,6),activation='relu',padding='same'))\n",
        "#model.add(MaxPool2D((2,2)))\n",
        "model.add(Flatten())\n",
        "model.add(Dense(128,activation='relu'))\n",
        "#model.add(Dropout(0.2))\n",
        "model.add(Dense(64,activation='relu'))\n",
        "model.add(Dense(3,activation='softmax'))"
      ],
      "execution_count": null,
      "outputs": []
    },
    {
      "cell_type": "code",
      "metadata": {
        "colab": {
          "base_uri": "https://localhost:8080/"
        },
        "id": "bEiadAuk8Rt7",
        "outputId": "e2a323c1-d941-4876-fa0c-618e589c7bd4"
      },
      "source": [
        "# model Summary\n",
        "model.summary()"
      ],
      "execution_count": null,
      "outputs": [
        {
          "output_type": "stream",
          "text": [
            "Model: \"sequential\"\n",
            "_________________________________________________________________\n",
            "Layer (type)                 Output Shape              Param #   \n",
            "=================================================================\n",
            "conv2d (Conv2D)              (None, 7, 6, 128)         5504      \n",
            "_________________________________________________________________\n",
            "conv2d_1 (Conv2D)            (None, 7, 6, 128)         688256    \n",
            "_________________________________________________________________\n",
            "flatten (Flatten)            (None, 5376)              0         \n",
            "_________________________________________________________________\n",
            "dense (Dense)                (None, 128)               688256    \n",
            "_________________________________________________________________\n",
            "dense_1 (Dense)              (None, 64)                8256      \n",
            "_________________________________________________________________\n",
            "dense_2 (Dense)              (None, 3)                 195       \n",
            "=================================================================\n",
            "Total params: 1,390,467\n",
            "Trainable params: 1,390,467\n",
            "Non-trainable params: 0\n",
            "_________________________________________________________________\n"
          ],
          "name": "stdout"
        }
      ]
    },
    {
      "cell_type": "code",
      "metadata": {
        "id": "EEnv_KWBZpuH"
      },
      "source": [
        "# Compiling Model\n",
        "model.compile(optimizer='adam',loss='categorical_crossentropy',metrics=['accuracy'])"
      ],
      "execution_count": null,
      "outputs": []
    },
    {
      "cell_type": "code",
      "metadata": {
        "colab": {
          "background_save": true,
          "base_uri": "https://localhost:8080/"
        },
        "id": "xf6r-KiDZ65I",
        "outputId": "67db7549-ada8-4c97-f1ff-56dd34b371b4"
      },
      "source": [
        "# Fitting Model\n",
        "epochs = 20\n",
        "batch_size = 32\n",
        "history = model.fit(X_train,y_train,batch_size=batch_size,epochs=epochs,validation_data=(X_test,y_test))"
      ],
      "execution_count": null,
      "outputs": [
        {
          "output_type": "stream",
          "text": [
            "Epoch 1/20\n",
            "1425/1425 [==============================] - 209s 146ms/step - loss: 0.5858 - accuracy: 0.7585 - val_loss: 0.3958 - val_accuracy: 0.8417\n",
            "Epoch 2/20\n",
            "1425/1425 [==============================] - 207s 145ms/step - loss: 0.3890 - accuracy: 0.8407 - val_loss: 0.3662 - val_accuracy: 0.8542\n",
            "Epoch 3/20\n",
            "1425/1425 [==============================] - 207s 145ms/step - loss: 0.3285 - accuracy: 0.8664 - val_loss: 0.3563 - val_accuracy: 0.8555\n",
            "Epoch 4/20\n",
            "1425/1425 [==============================] - 208s 146ms/step - loss: 0.2858 - accuracy: 0.8834 - val_loss: 0.3350 - val_accuracy: 0.8674\n",
            "Epoch 5/20\n",
            "1425/1425 [==============================] - 208s 146ms/step - loss: 0.2409 - accuracy: 0.9019 - val_loss: 0.3564 - val_accuracy: 0.8699\n",
            "Epoch 6/20\n",
            "1425/1425 [==============================] - 208s 146ms/step - loss: 0.2007 - accuracy: 0.9191 - val_loss: 0.3506 - val_accuracy: 0.8680\n",
            "Epoch 7/20\n",
            "1425/1425 [==============================] - 208s 146ms/step - loss: 0.1662 - accuracy: 0.9350 - val_loss: 0.4034 - val_accuracy: 0.8528\n",
            "Epoch 8/20\n",
            "1425/1425 [==============================] - 208s 146ms/step - loss: 0.1362 - accuracy: 0.9456 - val_loss: 0.4219 - val_accuracy: 0.8609\n",
            "Epoch 9/20\n",
            "1425/1425 [==============================] - 207s 145ms/step - loss: 0.1089 - accuracy: 0.9571 - val_loss: 0.4742 - val_accuracy: 0.8650\n",
            "Epoch 10/20\n",
            "1425/1425 [==============================] - 208s 146ms/step - loss: 0.0895 - accuracy: 0.9655 - val_loss: 0.5680 - val_accuracy: 0.8607\n",
            "Epoch 11/20\n",
            "1425/1425 [==============================] - 208s 146ms/step - loss: 0.0749 - accuracy: 0.9715 - val_loss: 0.5942 - val_accuracy: 0.8549\n",
            "Epoch 12/20\n",
            "1425/1425 [==============================] - 207s 146ms/step - loss: 0.0634 - accuracy: 0.9771 - val_loss: 0.6344 - val_accuracy: 0.8595\n",
            "Epoch 13/20\n",
            "1425/1425 [==============================] - 208s 146ms/step - loss: 0.0548 - accuracy: 0.9804 - val_loss: 0.6991 - val_accuracy: 0.8648\n",
            "Epoch 14/20\n",
            "1425/1425 [==============================] - 206s 145ms/step - loss: 0.0487 - accuracy: 0.9822 - val_loss: 0.6861 - val_accuracy: 0.8587\n",
            "Epoch 15/20\n",
            "1425/1425 [==============================] - 207s 145ms/step - loss: 0.0475 - accuracy: 0.9833 - val_loss: 0.7059 - val_accuracy: 0.8656\n",
            "Epoch 16/20\n",
            "1425/1425 [==============================] - 207s 145ms/step - loss: 0.0460 - accuracy: 0.9843 - val_loss: 0.7425 - val_accuracy: 0.8634\n",
            "Epoch 17/20\n",
            "1425/1425 [==============================] - 207s 145ms/step - loss: 0.0370 - accuracy: 0.9886 - val_loss: 0.7426 - val_accuracy: 0.8624\n",
            "Epoch 18/20\n",
            "1425/1425 [==============================] - 207s 145ms/step - loss: 0.0417 - accuracy: 0.9860 - val_loss: 0.8101 - val_accuracy: 0.8632\n",
            "Epoch 19/20\n",
            "1425/1425 [==============================] - 207s 145ms/step - loss: 0.0341 - accuracy: 0.9885 - val_loss: 0.7695 - val_accuracy: 0.8640\n",
            "Epoch 20/20\n",
            "1425/1425 [==============================] - 206s 144ms/step - loss: 0.0334 - accuracy: 0.9897 - val_loss: 0.8651 - val_accuracy: 0.8634\n"
          ],
          "name": "stdout"
        }
      ]
    },
    {
      "cell_type": "code",
      "metadata": {
        "colab": {
          "background_save": true
        },
        "id": "2P1beLn1DEcO"
      },
      "source": [
        "# converting test data to Numpy array\n",
        "test_data = test_data.to_numpy()\n",
        "# reshaping the array\n",
        "test_data = test_data.reshape(-1,7,6,1)"
      ],
      "execution_count": null,
      "outputs": []
    },
    {
      "cell_type": "code",
      "metadata": {
        "colab": {
          "background_save": true
        },
        "id": "yE0mv5ZbEJiQ"
      },
      "source": [
        "# Predicting probability of the target class\n",
        "y_predict = model.predict(test_data)"
      ],
      "execution_count": null,
      "outputs": []
    },
    {
      "cell_type": "code",
      "metadata": {
        "colab": {
          "background_save": true
        },
        "id": "yfuf6kpbJ9V6",
        "outputId": "57ec7bd8-87ff-4a74-fab3-05e92e277e26"
      },
      "source": [
        "y_predict"
      ],
      "execution_count": null,
      "outputs": [
        {
          "output_type": "execute_result",
          "data": {
            "text/plain": [
              "array([[6.77230751e-15, 1.00000000e+00, 3.85213583e-10],\n",
              "       [1.00000000e+00, 3.15366087e-14, 2.59522806e-15],\n",
              "       [1.00000000e+00, 5.47578445e-17, 1.69187130e-11],\n",
              "       ...,\n",
              "       [1.00000000e+00, 1.80718076e-27, 1.10242886e-29],\n",
              "       [9.99997497e-01, 1.40782448e-16, 2.52048176e-06],\n",
              "       [9.99999762e-01, 1.52999544e-10, 1.82561223e-07]], dtype=float32)"
            ]
          },
          "metadata": {
            "tags": []
          },
          "execution_count": 0
        }
      ]
    },
    {
      "cell_type": "code",
      "metadata": {
        "colab": {
          "background_save": true
        },
        "id": "Yz1JhKJRKa3c"
      },
      "source": [
        "# variable that has high probability\n",
        "results = np.argmax(y_predict,axis = 1)"
      ],
      "execution_count": null,
      "outputs": []
    },
    {
      "cell_type": "code",
      "metadata": {
        "colab": {
          "background_save": true
        },
        "id": "A64Ke-kPMNEx"
      },
      "source": [
        "# reversing label encoding\n",
        "results = pd.Series(results,name=\"prediction\")\n",
        "results = results.map({0:\"win\",1:\"loss\",2:\"draw\"})"
      ],
      "execution_count": null,
      "outputs": []
    },
    {
      "cell_type": "code",
      "metadata": {
        "colab": {
          "background_save": true
        },
        "id": "52mCCKVJIuic",
        "outputId": "cefc2059-bd06-49a3-e931-9da2509e7f40"
      },
      "source": [
        "results"
      ],
      "execution_count": null,
      "outputs": [
        {
          "output_type": "execute_result",
          "data": {
            "text/plain": [
              "0        loss\n",
              "1         win\n",
              "2         win\n",
              "3         win\n",
              "4         win\n",
              "         ... \n",
              "16885     win\n",
              "16886     win\n",
              "16887     win\n",
              "16888     win\n",
              "16889     win\n",
              "Name: prediction, Length: 16890, dtype: object"
            ]
          },
          "metadata": {
            "tags": []
          },
          "execution_count": 0
        }
      ]
    },
    {
      "cell_type": "code",
      "metadata": {
        "colab": {
          "background_save": true
        },
        "id": "z13LV2H6LFsZ"
      },
      "source": [
        "# extracting pdf as csv file\n",
        "results.to_csv(\"connect4.csv\",index=False)"
      ],
      "execution_count": null,
      "outputs": []
    }
  ]
}